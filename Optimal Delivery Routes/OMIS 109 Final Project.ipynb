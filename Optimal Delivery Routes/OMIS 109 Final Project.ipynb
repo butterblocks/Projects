{
 "cells": [
  {
   "cell_type": "markdown",
   "metadata": {},
   "source": [
    "### Final Project"
   ]
  },
  {
   "cell_type": "markdown",
   "metadata": {},
   "source": [
    "# LP\n",
    "\n",
    "## Variables:\n",
    "\n",
    "X = 1 if route from node i to node j is taken, otherwise 0\n",
    "\n",
    "## Objectives:\n",
    "\n",
    "MIN $X_{12}$ + $X_{13}$ + $X_{49}$ + $X_{68}$ + $X_{67}$ + $X_{24}$ + $X_{29}$ + $X_{35}$ + $X_{37}$ + $X_{36}$ + $X_{59}$ + $X_{910}$ + $X_{98}$ + $X_{78}$ + $X_{811}$ + $X_{1011}$\n",
    "\n",
    " \n",
    "## Constraints:\n",
    "\n",
    "-$X_{12}$ - $X_{13}$ = -1\n",
    "\n",
    "$X_{12}$ - $X_{24}$ - $X_{29}$ = 0\n",
    "\n",
    "$X_{13}$ - $X_{35}$ - $X_{37}$ - $X_{36}$ = 0\n",
    "\n",
    "$X_{35}$ - $X_{59}$ = 0\n",
    "\n",
    "$X_{24}$ - $X_{49}$ = -1\n",
    "\n",
    "$X_{36}$ - $X_{67}$ - $X_{68}$ = -1\n",
    "\n",
    "$X_{49}$ + $X_{29}$ + $X_{59}$ - $X_{910}$ - $X_{98}$ = 0\n",
    "\n",
    "$X_{73}$ + $X_{67}$ - $X_{78}$ = 0\n",
    "\n",
    "$X_{910}$ - $X_{1011}$ = 1\n",
    "\n",
    "$X_{98}$ $X_{78}$ + $X_{68}$ - $X_{78}$ = 1\n",
    "\n",
    "$X_{ij}$ >= 0 for all i and j\n",
    "\n",
    "\n",
    "\n",
    "# LP 2\n",
    "\n",
    "## Variables:\n",
    "\n",
    "$x_i$ = # of pianos\n",
    "\n",
    "$d_i^-$ = negative deviation \n",
    "\n",
    "$d_i^+$ = positive deviation\n",
    "\n",
    "## Objective:\n",
    "\n",
    "\\begin{equation}\n",
    "\\text{Min} \\quad \\frac{w_1^-d_1^-}{15} + \\frac{w_2^-d_2^-}{30} + \\frac{w_3^-d_3^-}{35} + \\frac{w_4^+d_4^+}{2000} + \\frac{w_5^-d_5^-}{1000000}\n",
    "\\end{equation}\n",
    "\n",
    " \n",
    "## Goal Constraints:\n",
    "\n",
    "x1 + $d_1^-$ - $d_1^+$   == 10\n",
    "\n",
    "x2 +  $d_2^-$ -$d_2^+$  == 30\n",
    "\n",
    "x3 + $d_3^-$ - $d_3^+$  == 35\n",
    "\n",
    "50x1 + 30x2 + 25x3 + $d_4^-$ - $d_4^+$  == 2000\n",
    "\n",
    "180000x1 + 61000x2 + 35000x3 <br>- (((75000 + 5000)\\*x1) + ((30000 + 7000)\\*x2) + ((15000 + 3500)\\*x3)) + $d_5^-$ - $d_5^+$  == 1500000\n",
    "\n",
    "where $d_1^+$, $d_1^-$ >= 0\\\n",
    "$x_i$ >= 0\n"
   ]
  },
  {
   "cell_type": "code",
   "execution_count": 1,
   "metadata": {},
   "outputs": [],
   "source": [
    "import gurobipy as gp\n",
    "from gurobipy import GRB "
   ]
  },
  {
   "cell_type": "code",
   "execution_count": 2,
   "metadata": {},
   "outputs": [],
   "source": [
    "nodes = 11\n",
    "\n",
    "g_origin = 1\n",
    "\n",
    "destination = 11\n",
    "\n",
    "arcs, t_cost = gp.multidict({\n",
    "    ( 1 , 2 ): 2000,\n",
    "    ( 1 ,  3 ): 1500,\n",
    "    ( 4 ,  9 ): 2000,\n",
    "    ( 6 ,  8 ): 2000,\n",
    "    ( 6 ,  7 ): 2500,\n",
    "    ( 2 ,  4 ): 1500,\n",
    "    ( 2 ,  9 ): 2500,\n",
    "    ( 3 ,  5 ): 1000,\n",
    "    ( 3 ,  7 ): 3000,\n",
    "    ( 3 ,  6 ): 2000,\n",
    "    ( 5 ,  9 ): 5000,\n",
    "    ( 9 ,  10 ): 1500,\n",
    "    ( 9 ,  8 ): 2000,\n",
    "    ( 7 ,  8 ): 1000,\n",
    "    ( 8 ,  11 ): 1500,\n",
    "    ( 10 ,  11 ): 1500,\n",
    "})"
   ]
  },
  {
   "cell_type": "code",
   "execution_count": 3,
   "metadata": {},
   "outputs": [
    {
     "name": "stdout",
     "output_type": "stream",
     "text": [
      "Set parameter Username\n",
      "Academic license - for non-commercial use only - expires 2024-01-06\n"
     ]
    }
   ],
   "source": [
    "gmCost = gp.Model('GrandMin')"
   ]
  },
  {
   "cell_type": "code",
   "execution_count": 4,
   "metadata": {},
   "outputs": [],
   "source": [
    "GPathCost = gmCost.addVars(arcs, obj=t_cost)"
   ]
  },
  {
   "cell_type": "code",
   "execution_count": 5,
   "metadata": {},
   "outputs": [],
   "source": [
    "for i in range(1, nodes+1):\n",
    "    gmCost.addConstr(sum(GPathCost[i,j] for i,j in arcs.select(i, '*'))  \n",
    "                - sum(GPathCost[j,i] for j,i in arcs.select('*',i))\n",
    "                == (1 if i == g_origin else -1 if i == destination else 0 ))"
   ]
  },
  {
   "cell_type": "code",
   "execution_count": 6,
   "metadata": {},
   "outputs": [],
   "source": [
    "gmCost.write('Kyle.lp')"
   ]
  },
  {
   "cell_type": "code",
   "execution_count": 7,
   "metadata": {},
   "outputs": [
    {
     "name": "stdout",
     "output_type": "stream",
     "text": [
      "Gurobi Optimizer version 10.0.0 build v10.0.0rc2 (win64)\n",
      "\n",
      "CPU model: Intel(R) Core(TM) i7-9750H CPU @ 2.60GHz, instruction set [SSE2|AVX|AVX2]\n",
      "Thread count: 6 physical cores, 12 logical processors, using up to 12 threads\n",
      "\n",
      "Optimize a model with 11 rows, 16 columns and 32 nonzeros\n",
      "Model fingerprint: 0x285e4c49\n",
      "Coefficient statistics:\n",
      "  Matrix range     [1e+00, 1e+00]\n",
      "  Objective range  [1e+03, 5e+03]\n",
      "  Bounds range     [0e+00, 0e+00]\n",
      "  RHS range        [1e+00, 1e+00]\n",
      "Presolve removed 8 rows and 8 columns\n",
      "Presolve time: 0.01s\n",
      "Presolved: 3 rows, 8 columns, 16 nonzeros\n",
      "\n",
      "Iteration    Objective       Primal Inf.    Dual Inf.      Time\n",
      "       0    6.0000000e+03   2.000000e+00   0.000000e+00      0s\n",
      "       1    7.0000000e+03   0.000000e+00   0.000000e+00      0s\n",
      "\n",
      "Solved in 1 iterations and 0.01 seconds (0.00 work units)\n",
      "Optimal objective  7.000000000e+03\n"
     ]
    }
   ],
   "source": [
    "gmCost.optimize()"
   ]
  },
  {
   "cell_type": "code",
   "execution_count": 8,
   "metadata": {},
   "outputs": [],
   "source": [
    "cmCost = gp.Model('ConcertMin')"
   ]
  },
  {
   "cell_type": "code",
   "execution_count": 9,
   "metadata": {},
   "outputs": [],
   "source": [
    "c_origin = 4"
   ]
  },
  {
   "cell_type": "code",
   "execution_count": 10,
   "metadata": {},
   "outputs": [],
   "source": [
    "CPathCost = cmCost.addVars(arcs, obj=t_cost)"
   ]
  },
  {
   "cell_type": "code",
   "execution_count": 11,
   "metadata": {},
   "outputs": [],
   "source": [
    "for i in range(1, nodes+1):\n",
    "    cmCost.addConstr(sum(CPathCost[i,j] for i,j in arcs.select(i, '*'))  \n",
    "                - sum(CPathCost[j,i] for j,i in arcs.select('*',i))\n",
    "                == (1 if i == c_origin else -1 if i == destination else 0 ))"
   ]
  },
  {
   "cell_type": "code",
   "execution_count": 12,
   "metadata": {},
   "outputs": [
    {
     "name": "stdout",
     "output_type": "stream",
     "text": [
      "Gurobi Optimizer version 10.0.0 build v10.0.0rc2 (win64)\n",
      "\n",
      "CPU model: Intel(R) Core(TM) i7-9750H CPU @ 2.60GHz, instruction set [SSE2|AVX|AVX2]\n",
      "Thread count: 6 physical cores, 12 logical processors, using up to 12 threads\n",
      "\n",
      "Optimize a model with 11 rows, 16 columns and 32 nonzeros\n",
      "Model fingerprint: 0x0791318e\n",
      "Coefficient statistics:\n",
      "  Matrix range     [1e+00, 1e+00]\n",
      "  Objective range  [1e+03, 5e+03]\n",
      "  Bounds range     [0e+00, 0e+00]\n",
      "  RHS range        [1e+00, 1e+00]\n",
      "Presolve removed 9 rows and 14 columns\n",
      "Presolve time: 0.01s\n",
      "Presolved: 2 rows, 2 columns, 4 nonzeros\n",
      "\n",
      "Iteration    Objective       Primal Inf.    Dual Inf.      Time\n",
      "       0    5.0000000e+03   0.000000e+00   0.000000e+00      0s\n",
      "       0    5.0000000e+03   0.000000e+00   0.000000e+00      0s\n",
      "\n",
      "Solved in 0 iterations and 0.01 seconds (0.00 work units)\n",
      "Optimal objective  5.000000000e+03\n"
     ]
    }
   ],
   "source": [
    "cmCost.optimize()"
   ]
  },
  {
   "cell_type": "code",
   "execution_count": 13,
   "metadata": {},
   "outputs": [],
   "source": [
    "bmCost = gp.Model('BabyMin')"
   ]
  },
  {
   "cell_type": "code",
   "execution_count": 14,
   "metadata": {},
   "outputs": [],
   "source": [
    "b_origin = 6"
   ]
  },
  {
   "cell_type": "code",
   "execution_count": 15,
   "metadata": {},
   "outputs": [],
   "source": [
    "BPathCost = bmCost.addVars(arcs, obj=t_cost)"
   ]
  },
  {
   "cell_type": "code",
   "execution_count": 16,
   "metadata": {},
   "outputs": [],
   "source": [
    "for i in range(1, nodes+1):\n",
    "    bmCost.addConstr(sum(BPathCost[i,j] for i,j in arcs.select(i, '*'))  \n",
    "                - sum(BPathCost[j,i] for j,i in arcs.select('*',i))\n",
    "                == (1 if i == b_origin else -1 if i == destination else 0 ))"
   ]
  },
  {
   "cell_type": "code",
   "execution_count": 17,
   "metadata": {},
   "outputs": [
    {
     "name": "stdout",
     "output_type": "stream",
     "text": [
      "Gurobi Optimizer version 10.0.0 build v10.0.0rc2 (win64)\n",
      "\n",
      "CPU model: Intel(R) Core(TM) i7-9750H CPU @ 2.60GHz, instruction set [SSE2|AVX|AVX2]\n",
      "Thread count: 6 physical cores, 12 logical processors, using up to 12 threads\n",
      "\n",
      "Optimize a model with 11 rows, 16 columns and 32 nonzeros\n",
      "Model fingerprint: 0x346311e9\n",
      "Coefficient statistics:\n",
      "  Matrix range     [1e+00, 1e+00]\n",
      "  Objective range  [1e+03, 5e+03]\n",
      "  Bounds range     [0e+00, 0e+00]\n",
      "  RHS range        [1e+00, 1e+00]\n",
      "Presolve removed 11 rows and 16 columns\n",
      "Presolve time: 0.01s\n",
      "Presolve: All rows and columns removed\n",
      "Iteration    Objective       Primal Inf.    Dual Inf.      Time\n",
      "       0    3.5000000e+03   0.000000e+00   0.000000e+00      0s\n",
      "\n",
      "Solved in 0 iterations and 0.01 seconds (0.00 work units)\n",
      "Optimal objective  3.500000000e+03\n"
     ]
    }
   ],
   "source": [
    "bmCost.optimize()"
   ]
  },
  {
   "cell_type": "code",
   "execution_count": 18,
   "metadata": {},
   "outputs": [
    {
     "name": "stdout",
     "output_type": "stream",
     "text": [
      "The path for Grand pianos with the least cost is:\n",
      "1 3 : 1.0\n",
      "6 8 : 1.0\n",
      "3 6 : 1.0\n",
      "8 11 : 1.0\n",
      "Total Cost: 7000.0\n",
      "\n"
     ]
    }
   ],
   "source": [
    "print('The path for Grand pianos with the least cost is:')\n",
    "for i,j in arcs:\n",
    "    if(GPathCost[i,j].x > 0):\n",
    "        print(i, j, \":\", GPathCost[i,j].x)\n",
    "print('Total Cost: ' + str(gmCost.objval))\n",
    "print()"
   ]
  },
  {
   "cell_type": "code",
   "execution_count": 19,
   "metadata": {},
   "outputs": [
    {
     "name": "stdout",
     "output_type": "stream",
     "text": [
      "The path for Concert pianos with the least cost is:\n",
      "4 9 : 1.0\n",
      "9 10 : 1.0\n",
      "10 11 : 1.0\n",
      "Total Cost: 5000.0\n",
      "\n"
     ]
    }
   ],
   "source": [
    "print('The path for Concert pianos with the least cost is:')\n",
    "for i,j in arcs:\n",
    "    if(CPathCost[i,j].x > 0):\n",
    "        print(i, j, \":\", CPathCost[i,j].x)\n",
    "print('Total Cost: ' + str(cmCost.objval))\n",
    "print()"
   ]
  },
  {
   "cell_type": "code",
   "execution_count": 20,
   "metadata": {},
   "outputs": [
    {
     "name": "stdout",
     "output_type": "stream",
     "text": [
      "The path for Baby Grand pianos with the least cost is:\n",
      "6 8 : 1.0\n",
      "8 11 : 1.0\n",
      "Total Cost: 3500.0\n",
      "\n"
     ]
    }
   ],
   "source": [
    "print('The path for Baby Grand pianos with the least cost is:')\n",
    "for i,j in arcs:\n",
    "    if(BPathCost[i,j].x > 0):\n",
    "        print(i, j, \":\", BPathCost[i,j].x)\n",
    "print('Total Cost: ' + str(bmCost.objval))\n",
    "print()"
   ]
  },
  {
   "cell_type": "code",
   "execution_count": 21,
   "metadata": {},
   "outputs": [],
   "source": [
    "ccost = int(cmCost.objval)"
   ]
  },
  {
   "cell_type": "code",
   "execution_count": 22,
   "metadata": {},
   "outputs": [],
   "source": [
    "gcost = int(gmCost.objval)"
   ]
  },
  {
   "cell_type": "code",
   "execution_count": 23,
   "metadata": {},
   "outputs": [],
   "source": [
    "bgcost = int(bmCost.objval)"
   ]
  },
  {
   "cell_type": "code",
   "execution_count": 24,
   "metadata": {},
   "outputs": [
    {
     "data": {
      "text/plain": [
       "int"
      ]
     },
     "execution_count": 24,
     "metadata": {},
     "output_type": "execute_result"
    }
   ],
   "source": [
    "type(bgcost)"
   ]
  },
  {
   "cell_type": "markdown",
   "metadata": {},
   "source": [
    "### Part 2"
   ]
  },
  {
   "cell_type": "code",
   "execution_count": 25,
   "metadata": {},
   "outputs": [],
   "source": [
    "requirement, goal = gp.multidict({\n",
    "    'Concert': 10,\n",
    "    'Grand': 30,\n",
    "    'Baby Grand': 35,\n",
    "    'Size': 2000,\n",
    "    'Profit': 1500000\n",
    "})\n",
    "\n",
    "piano, price, cost, size, truck_cost = gp.multidict({\n",
    "    \"Concert\":  [180000, 75000, 50, ccost],\n",
    "    \"Grand\":  [61000, 30000, 30, gcost],\n",
    "    \"Baby Grand\":  [35000, 15000, 25, bgcost],\n",
    "})"
   ]
  },
  {
   "cell_type": "code",
   "execution_count": 26,
   "metadata": {},
   "outputs": [],
   "source": [
    "mo = gp.Model('Showroom')"
   ]
  },
  {
   "cell_type": "code",
   "execution_count": 27,
   "metadata": {},
   "outputs": [],
   "source": [
    "# Variables\n",
    "\n",
    "x = mo.addVars(piano, vtype=GRB.INTEGER, name=\"Pianos\")\n",
    "\n",
    "# Positive and negative deviations\n",
    "ConcertPos = mo.addVar(name='ConcertPos')\n",
    "ConcertNeg = mo.addVar(name='ConcertNeg')\n",
    "\n",
    "GrandPos = mo.addVar(name='GrandPos')\n",
    "GrandNeg = mo.addVar(name='GrandNeg')\n",
    "\n",
    "BabyGrandPos = mo.addVar(name='BabyGrandPos')\n",
    "BabyGrandNeg = mo.addVar(name='BabyGrandNeg')\n",
    "\n",
    "sizePos = mo.addVar(name='sizePos')\n",
    "sizeNeg = mo.addVar(name='sizeNeg')\n",
    "\n",
    "profitPos = mo.addVar(name='profitPos')\n",
    "profitNeg = mo.addVar(name='profitNeg')"
   ]
  },
  {
   "cell_type": "code",
   "execution_count": 28,
   "metadata": {},
   "outputs": [],
   "source": [
    "# Constraints\n",
    "storeConstr = mo.addConstr((gp.quicksum(size[l] * x[l] for l in piano) <= 2500), name='storeConstr')\n",
    "\n",
    "concertConstr = mo.addConstr(x['Concert'] - ConcertPos + ConcertNeg == goal['Concert'], name='ConcertConstr')\n",
    "\n",
    "grandConstr = mo.addConstr(x['Grand'] - GrandPos + GrandNeg == goal['Grand'], name='GrandConstr')\n",
    "\n",
    "babyGrandConstr = mo.addConstr(x['Baby Grand'] - BabyGrandPos + BabyGrandPos == goal['Baby Grand'], name='BabyConstr')\n",
    "\n",
    "sizeConstr = mo.addConstr((gp.quicksum(size[l] * x[l] for l in piano) \n",
    "                            - sizePos + sizeNeg == goal['Size']), name='sizeConstr')\n",
    "\n",
    "profitConstr = mo.addConstr((gp.quicksum(((price[k] - (cost[k] + truck_cost[k])) * x[k] for k in piano))\n",
    "                            - profitPos + profitNeg == goal['Profit']), name='ProfitConstr')"
   ]
  },
  {
   "cell_type": "code",
   "execution_count": 29,
   "metadata": {},
   "outputs": [],
   "source": [
    "# weights\n",
    "# size is 3 times as important\n",
    "w = {'concertPos':1,\n",
    "     'concertNeg':1,\n",
    "     'grandPos':1,\n",
    "     'grandNeg':1,\n",
    "     'babyGrandPos':1,\n",
    "     'babyGrandNeg':1,\n",
    "     'sizePos':3,\n",
    "     'sizeNeg':1,\n",
    "     'profitPos':1,\n",
    "     'profitNeg':1 \n",
    "    }"
   ]
  },
  {
   "cell_type": "code",
   "execution_count": 30,
   "metadata": {},
   "outputs": [],
   "source": [
    "# objective\n",
    "\n",
    "o = w['concertNeg']*ConcertNeg/goal['Concert']\\\n",
    "+ w['grandNeg']*GrandNeg/goal['Grand']\\\n",
    "+ w['babyGrandNeg']*BabyGrandNeg/goal['Baby Grand']\\\n",
    "+ w['sizePos']*sizePos/goal['Size']\\\n",
    "+ w['profitNeg']*profitNeg/goal['Profit']\n",
    "\n",
    "mo.setObjective(o)"
   ]
  },
  {
   "cell_type": "code",
   "execution_count": 31,
   "metadata": {},
   "outputs": [
    {
     "name": "stdout",
     "output_type": "stream",
     "text": [
      "Warning: variable name \"Pianos[Baby Grand]\" has a space\n",
      "Warning: to let Gurobi read it back, use rlp format\n"
     ]
    }
   ],
   "source": [
    "mo.write('Part 2.lp')"
   ]
  },
  {
   "cell_type": "code",
   "execution_count": 32,
   "metadata": {},
   "outputs": [
    {
     "name": "stdout",
     "output_type": "stream",
     "text": [
      "Gurobi Optimizer version 10.0.0 build v10.0.0rc2 (win64)\n",
      "\n",
      "CPU model: Intel(R) Core(TM) i7-9750H CPU @ 2.60GHz, instruction set [SSE2|AVX|AVX2]\n",
      "Thread count: 6 physical cores, 12 logical processors, using up to 12 threads\n",
      "\n",
      "Optimize a model with 6 rows, 13 columns and 20 nonzeros\n",
      "Model fingerprint: 0x262a9614\n",
      "Variable types: 10 continuous, 3 integer (0 binary)\n",
      "Coefficient statistics:\n",
      "  Matrix range     [1e+00, 1e+05]\n",
      "  Objective range  [7e-07, 1e-01]\n",
      "  Bounds range     [0e+00, 0e+00]\n",
      "  RHS range        [1e+01, 2e+06]\n",
      "Presolve removed 2 rows and 6 columns\n",
      "Presolve time: 0.00s\n",
      "Presolved: 4 rows, 7 columns, 11 nonzeros\n",
      "Variable types: 2 continuous, 5 integer (0 binary)\n",
      "Found heuristic solution: objective 1.7125000\n",
      "\n",
      "Root relaxation: objective 3.055556e-01, 4 iterations, 0.00 seconds (0.00 work units)\n",
      "\n",
      "    Nodes    |    Current Node    |     Objective Bounds      |     Work\n",
      " Expl Unexpl |  Obj  Depth IntInf | Incumbent    BestBd   Gap | It/Node Time\n",
      "\n",
      "     0     0    0.30556    0    2    1.71250    0.30556  82.2%     -    0s\n",
      "H    0     0                       0.3075000    0.30556  0.63%     -    0s\n",
      "     0     0    0.30556    0    2    0.30750    0.30556  0.63%     -    0s\n",
      "\n",
      "Explored 1 nodes (4 simplex iterations) in 0.02 seconds (0.00 work units)\n",
      "Thread count was 12 (of 12 available processors)\n",
      "\n",
      "Solution count 2: 0.3075 1.7125 \n",
      "\n",
      "Optimal solution found (tolerance 1.00e-04)\n",
      "Best objective 3.075000000000e-01, best bound 3.075000000000e-01, gap 0.0000%\n"
     ]
    }
   ],
   "source": [
    "mo.optimize()"
   ]
  },
  {
   "cell_type": "code",
   "execution_count": 33,
   "metadata": {},
   "outputs": [
    {
     "name": "stdout",
     "output_type": "stream",
     "text": [
      "Pianos[Concert] 10.0\n",
      "Pianos[Grand] 21.0\n",
      "Pianos[Baby Grand] 35.0\n",
      "ConcertPos 0.0\n",
      "ConcertNeg 0.0\n",
      "GrandPos 0.0\n",
      "GrandNeg 9.0\n",
      "BabyGrandPos 0.0\n",
      "BabyGrandNeg 0.0\n",
      "sizePos 5.0\n",
      "sizeNeg 0.0\n",
      "profitPos 581500.0\n",
      "profitNeg 0.0\n"
     ]
    }
   ],
   "source": [
    "for a in mo.getVars():\n",
    "    print(a.varName, a.x)"
   ]
  },
  {
   "cell_type": "markdown",
   "metadata": {},
   "source": [
    "o = w['concertPos']*ConcertPos/goal['Concert']\\\n",
    "+ w['concertNeg']*ConcertNeg/goal['Concert']\\\n",
    "+ w['grandPos']*GrandPos/goal['Grand']\\\n",
    "+ w['grandNeg']*GrandNeg/goal['Grand']\\\n",
    "+ w['babyGrandPos']*BabyGrandPos/goal['Baby Grand']\\\n",
    "+ w['babyGrandNeg']*BabyGrandNeg/goal['Baby Grand']\\\n",
    "+ w['sizePos']*sizePos/goal['Size']\\\n",
    "+ w['sizeNeg']*sizeNeg/goal['Size']\\\n",
    "+ w['profitPos']*profitPos/goal['Profit']\\\n",
    "+ w['profitNeg']*profitNeg/goal['Profit']"
   ]
  },
  {
   "cell_type": "code",
   "execution_count": null,
   "metadata": {},
   "outputs": [],
   "source": []
  }
 ],
 "metadata": {
  "kernelspec": {
   "display_name": "Python 3",
   "language": "python",
   "name": "python3"
  },
  "language_info": {
   "codemirror_mode": {
    "name": "ipython",
    "version": 3
   },
   "file_extension": ".py",
   "mimetype": "text/x-python",
   "name": "python",
   "nbconvert_exporter": "python",
   "pygments_lexer": "ipython3",
   "version": "3.8.3"
  }
 },
 "nbformat": 4,
 "nbformat_minor": 4
}
