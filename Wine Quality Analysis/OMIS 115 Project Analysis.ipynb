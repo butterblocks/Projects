{
 "cells": [
  {
   "cell_type": "code",
   "execution_count": 1,
   "id": "302ba848",
   "metadata": {},
   "outputs": [],
   "source": [
    "from IPython.core.interactiveshell import InteractiveShell\n",
    "InteractiveShell.ast_node_interactivity = \"all\"\n",
    "\n",
    "import os\n",
    "import mglearn\n",
    "import pandas as pd\n",
    "import numpy as np\n",
    "import matplotlib.pyplot as plt\n",
    "import math\n",
    "import scipy as stats\n",
    "import seaborn as sns\n",
    "from scipy import stats\n",
    "from sklearn.model_selection import train_test_split\n",
    "from sklearn.tree import DecisionTreeRegressor\n",
    "from sklearn.ensemble import RandomForestRegressor\n",
    "from sklearn.metrics import mean_squared_error\n",
    "from sklearn.tree import export_graphviz\n",
    "from sklearn import tree\n",
    "from IPython.display import display, HTML\n",
    "from IPython.display import Image, display\n",
    "from collections import Counter"
   ]
  },
  {
   "cell_type": "code",
   "execution_count": 2,
   "id": "54a23e47",
   "metadata": {
    "scrolled": true
   },
   "outputs": [],
   "source": [
    "# uncomment to increase display size\n",
    "# display(HTML(\"<style>.container { width:100% !important; }</style>\"))"
   ]
  },
  {
   "cell_type": "markdown",
   "id": "f101cc6a",
   "metadata": {},
   "source": [
    "## Data Import"
   ]
  },
  {
   "cell_type": "code",
   "execution_count": 3,
   "id": "a0f6bb33",
   "metadata": {},
   "outputs": [
    {
     "name": "stderr",
     "output_type": "stream",
     "text": [
      "C:\\Users\\ninja\\AppData\\Local\\Temp\\ipykernel_34136\\3131501647.py:2: FutureWarning: In a future version of pandas all arguments of read_csv except for the argument 'filepath_or_buffer' will be keyword-only.\n",
      "  red_wine = pd.read_csv('winequality-red.csv', ';')\n"
     ]
    },
    {
     "data": {
      "text/plain": [
       "(1599, 12)"
      ]
     },
     "execution_count": 3,
     "metadata": {},
     "output_type": "execute_result"
    },
    {
     "name": "stderr",
     "output_type": "stream",
     "text": [
      "C:\\Users\\ninja\\AppData\\Local\\Temp\\ipykernel_34136\\3131501647.py:6: FutureWarning: In a future version of pandas all arguments of read_csv except for the argument 'filepath_or_buffer' will be keyword-only.\n",
      "  white_wine = pd.read_csv('winequality-white.csv', ';')\n"
     ]
    },
    {
     "data": {
      "text/plain": [
       "(4898, 12)"
      ]
     },
     "execution_count": 3,
     "metadata": {},
     "output_type": "execute_result"
    }
   ],
   "source": [
    "# import csv's into dataframes\n",
    "red_wine = pd.read_csv('winequality-red.csv', ';')\n",
    "dfr = red_wine\n",
    "red_wine.shape\n",
    "\n",
    "white_wine = pd.read_csv('winequality-white.csv', ';')\n",
    "dfw = white_wine\n",
    "white_wine.shape"
   ]
  },
  {
   "cell_type": "markdown",
   "id": "82f5290b",
   "metadata": {},
   "source": [
    "### Data Description"
   ]
  },
  {
   "cell_type": "code",
   "execution_count": 4,
   "id": "74c873ed",
   "metadata": {
    "scrolled": true
   },
   "outputs": [
    {
     "data": {
      "text/html": [
       "<div>\n",
       "<style scoped>\n",
       "    .dataframe tbody tr th:only-of-type {\n",
       "        vertical-align: middle;\n",
       "    }\n",
       "\n",
       "    .dataframe tbody tr th {\n",
       "        vertical-align: top;\n",
       "    }\n",
       "\n",
       "    .dataframe thead th {\n",
       "        text-align: right;\n",
       "    }\n",
       "</style>\n",
       "<table border=\"1\" class=\"dataframe\">\n",
       "  <thead>\n",
       "    <tr style=\"text-align: right;\">\n",
       "      <th></th>\n",
       "      <th>fixed acidity</th>\n",
       "      <th>volatile acidity</th>\n",
       "      <th>citric acid</th>\n",
       "      <th>residual sugar</th>\n",
       "      <th>chlorides</th>\n",
       "      <th>free sulfur dioxide</th>\n",
       "      <th>total sulfur dioxide</th>\n",
       "      <th>density</th>\n",
       "      <th>pH</th>\n",
       "      <th>sulphates</th>\n",
       "      <th>alcohol</th>\n",
       "      <th>quality</th>\n",
       "    </tr>\n",
       "  </thead>\n",
       "  <tbody>\n",
       "    <tr>\n",
       "      <th>count</th>\n",
       "      <td>1599.000000</td>\n",
       "      <td>1599.000000</td>\n",
       "      <td>1599.000000</td>\n",
       "      <td>1599.000000</td>\n",
       "      <td>1599.000000</td>\n",
       "      <td>1599.000000</td>\n",
       "      <td>1599.000000</td>\n",
       "      <td>1599.000000</td>\n",
       "      <td>1599.000000</td>\n",
       "      <td>1599.000000</td>\n",
       "      <td>1599.000000</td>\n",
       "      <td>1599.000000</td>\n",
       "    </tr>\n",
       "    <tr>\n",
       "      <th>mean</th>\n",
       "      <td>8.319637</td>\n",
       "      <td>0.527821</td>\n",
       "      <td>0.270976</td>\n",
       "      <td>2.538806</td>\n",
       "      <td>0.087467</td>\n",
       "      <td>15.874922</td>\n",
       "      <td>46.467792</td>\n",
       "      <td>0.996747</td>\n",
       "      <td>3.311113</td>\n",
       "      <td>0.658149</td>\n",
       "      <td>10.422983</td>\n",
       "      <td>5.636023</td>\n",
       "    </tr>\n",
       "    <tr>\n",
       "      <th>std</th>\n",
       "      <td>1.741096</td>\n",
       "      <td>0.179060</td>\n",
       "      <td>0.194801</td>\n",
       "      <td>1.409928</td>\n",
       "      <td>0.047065</td>\n",
       "      <td>10.460157</td>\n",
       "      <td>32.895324</td>\n",
       "      <td>0.001887</td>\n",
       "      <td>0.154386</td>\n",
       "      <td>0.169507</td>\n",
       "      <td>1.065668</td>\n",
       "      <td>0.807569</td>\n",
       "    </tr>\n",
       "    <tr>\n",
       "      <th>min</th>\n",
       "      <td>4.600000</td>\n",
       "      <td>0.120000</td>\n",
       "      <td>0.000000</td>\n",
       "      <td>0.900000</td>\n",
       "      <td>0.012000</td>\n",
       "      <td>1.000000</td>\n",
       "      <td>6.000000</td>\n",
       "      <td>0.990070</td>\n",
       "      <td>2.740000</td>\n",
       "      <td>0.330000</td>\n",
       "      <td>8.400000</td>\n",
       "      <td>3.000000</td>\n",
       "    </tr>\n",
       "    <tr>\n",
       "      <th>25%</th>\n",
       "      <td>7.100000</td>\n",
       "      <td>0.390000</td>\n",
       "      <td>0.090000</td>\n",
       "      <td>1.900000</td>\n",
       "      <td>0.070000</td>\n",
       "      <td>7.000000</td>\n",
       "      <td>22.000000</td>\n",
       "      <td>0.995600</td>\n",
       "      <td>3.210000</td>\n",
       "      <td>0.550000</td>\n",
       "      <td>9.500000</td>\n",
       "      <td>5.000000</td>\n",
       "    </tr>\n",
       "    <tr>\n",
       "      <th>50%</th>\n",
       "      <td>7.900000</td>\n",
       "      <td>0.520000</td>\n",
       "      <td>0.260000</td>\n",
       "      <td>2.200000</td>\n",
       "      <td>0.079000</td>\n",
       "      <td>14.000000</td>\n",
       "      <td>38.000000</td>\n",
       "      <td>0.996750</td>\n",
       "      <td>3.310000</td>\n",
       "      <td>0.620000</td>\n",
       "      <td>10.200000</td>\n",
       "      <td>6.000000</td>\n",
       "    </tr>\n",
       "    <tr>\n",
       "      <th>75%</th>\n",
       "      <td>9.200000</td>\n",
       "      <td>0.640000</td>\n",
       "      <td>0.420000</td>\n",
       "      <td>2.600000</td>\n",
       "      <td>0.090000</td>\n",
       "      <td>21.000000</td>\n",
       "      <td>62.000000</td>\n",
       "      <td>0.997835</td>\n",
       "      <td>3.400000</td>\n",
       "      <td>0.730000</td>\n",
       "      <td>11.100000</td>\n",
       "      <td>6.000000</td>\n",
       "    </tr>\n",
       "    <tr>\n",
       "      <th>max</th>\n",
       "      <td>15.900000</td>\n",
       "      <td>1.580000</td>\n",
       "      <td>1.000000</td>\n",
       "      <td>15.500000</td>\n",
       "      <td>0.611000</td>\n",
       "      <td>72.000000</td>\n",
       "      <td>289.000000</td>\n",
       "      <td>1.003690</td>\n",
       "      <td>4.010000</td>\n",
       "      <td>2.000000</td>\n",
       "      <td>14.900000</td>\n",
       "      <td>8.000000</td>\n",
       "    </tr>\n",
       "  </tbody>\n",
       "</table>\n",
       "</div>"
      ],
      "text/plain": [
       "       fixed acidity  volatile acidity  citric acid  residual sugar  \\\n",
       "count    1599.000000       1599.000000  1599.000000     1599.000000   \n",
       "mean        8.319637          0.527821     0.270976        2.538806   \n",
       "std         1.741096          0.179060     0.194801        1.409928   \n",
       "min         4.600000          0.120000     0.000000        0.900000   \n",
       "25%         7.100000          0.390000     0.090000        1.900000   \n",
       "50%         7.900000          0.520000     0.260000        2.200000   \n",
       "75%         9.200000          0.640000     0.420000        2.600000   \n",
       "max        15.900000          1.580000     1.000000       15.500000   \n",
       "\n",
       "         chlorides  free sulfur dioxide  total sulfur dioxide      density  \\\n",
       "count  1599.000000          1599.000000           1599.000000  1599.000000   \n",
       "mean      0.087467            15.874922             46.467792     0.996747   \n",
       "std       0.047065            10.460157             32.895324     0.001887   \n",
       "min       0.012000             1.000000              6.000000     0.990070   \n",
       "25%       0.070000             7.000000             22.000000     0.995600   \n",
       "50%       0.079000            14.000000             38.000000     0.996750   \n",
       "75%       0.090000            21.000000             62.000000     0.997835   \n",
       "max       0.611000            72.000000            289.000000     1.003690   \n",
       "\n",
       "                pH    sulphates      alcohol      quality  \n",
       "count  1599.000000  1599.000000  1599.000000  1599.000000  \n",
       "mean      3.311113     0.658149    10.422983     5.636023  \n",
       "std       0.154386     0.169507     1.065668     0.807569  \n",
       "min       2.740000     0.330000     8.400000     3.000000  \n",
       "25%       3.210000     0.550000     9.500000     5.000000  \n",
       "50%       3.310000     0.620000    10.200000     6.000000  \n",
       "75%       3.400000     0.730000    11.100000     6.000000  \n",
       "max       4.010000     2.000000    14.900000     8.000000  "
      ]
     },
     "execution_count": 4,
     "metadata": {},
     "output_type": "execute_result"
    }
   ],
   "source": [
    "# red wine\n",
    "dfr.describe()"
   ]
  },
  {
   "cell_type": "code",
   "execution_count": 5,
   "id": "8777dd14",
   "metadata": {},
   "outputs": [
    {
     "data": {
      "text/plain": [
       "<BarContainer object of 6 artists>"
      ]
     },
     "execution_count": 5,
     "metadata": {},
     "output_type": "execute_result"
    },
    {
     "data": {
      "image/png": "[encoded data removed]",
      "text/plain": [
       "<Figure size 640x480 with 1 Axes>"
      ]
     },
     "metadata": {},
     "output_type": "display_data"
    }
   ],
   "source": [
    "# distribution of quality for red wine\n",
    "value_counts = Counter(dfr['quality'])\n",
    "redx = list(value_counts.keys())\n",
    "redy = list(value_counts.values())\n",
    "plt.bar(redx, redy)"
   ]
  },
  {
   "cell_type": "code",
   "execution_count": 6,
   "id": "7b368517",
   "metadata": {
    "scrolled": true
   },
   "outputs": [
    {
     "data": {
      "text/html": [
       "<div>\n",
       "<style scoped>\n",
       "    .dataframe tbody tr th:only-of-type {\n",
       "        vertical-align: middle;\n",
       "    }\n",
       "\n",
       "    .dataframe tbody tr th {\n",
       "        vertical-align: top;\n",
       "    }\n",
       "\n",
       "    .dataframe thead th {\n",
       "        text-align: right;\n",
       "    }\n",
       "</style>\n",
       "<table border=\"1\" class=\"dataframe\">\n",
       "  <thead>\n",
       "    <tr style=\"text-align: right;\">\n",
       "      <th></th>\n",
       "      <th>fixed acidity</th>\n",
       "      <th>volatile acidity</th>\n",
       "      <th>citric acid</th>\n",
       "      <th>residual sugar</th>\n",
       "      <th>chlorides</th>\n",
       "      <th>free sulfur dioxide</th>\n",
       "      <th>total sulfur dioxide</th>\n",
       "      <th>density</th>\n",
       "      <th>pH</th>\n",
       "      <th>sulphates</th>\n",
       "      <th>alcohol</th>\n",
       "      <th>quality</th>\n",
       "    </tr>\n",
       "  </thead>\n",
       "  <tbody>\n",
       "    <tr>\n",
       "      <th>count</th>\n",
       "      <td>4898.000000</td>\n",
       "      <td>4898.000000</td>\n",
       "      <td>4898.000000</td>\n",
       "      <td>4898.000000</td>\n",
       "      <td>4898.000000</td>\n",
       "      <td>4898.000000</td>\n",
       "      <td>4898.000000</td>\n",
       "      <td>4898.000000</td>\n",
       "      <td>4898.000000</td>\n",
       "      <td>4898.000000</td>\n",
       "      <td>4898.000000</td>\n",
       "      <td>4898.000000</td>\n",
       "    </tr>\n",
       "    <tr>\n",
       "      <th>mean</th>\n",
       "      <td>6.854788</td>\n",
       "      <td>0.278241</td>\n",
       "      <td>0.334192</td>\n",
       "      <td>6.391415</td>\n",
       "      <td>0.045772</td>\n",
       "      <td>35.308085</td>\n",
       "      <td>138.360657</td>\n",
       "      <td>0.994027</td>\n",
       "      <td>3.188267</td>\n",
       "      <td>0.489847</td>\n",
       "      <td>10.514267</td>\n",
       "      <td>5.877909</td>\n",
       "    </tr>\n",
       "    <tr>\n",
       "      <th>std</th>\n",
       "      <td>0.843868</td>\n",
       "      <td>0.100795</td>\n",
       "      <td>0.121020</td>\n",
       "      <td>5.072058</td>\n",
       "      <td>0.021848</td>\n",
       "      <td>17.007137</td>\n",
       "      <td>42.498065</td>\n",
       "      <td>0.002991</td>\n",
       "      <td>0.151001</td>\n",
       "      <td>0.114126</td>\n",
       "      <td>1.230621</td>\n",
       "      <td>0.885639</td>\n",
       "    </tr>\n",
       "    <tr>\n",
       "      <th>min</th>\n",
       "      <td>3.800000</td>\n",
       "      <td>0.080000</td>\n",
       "      <td>0.000000</td>\n",
       "      <td>0.600000</td>\n",
       "      <td>0.009000</td>\n",
       "      <td>2.000000</td>\n",
       "      <td>9.000000</td>\n",
       "      <td>0.987110</td>\n",
       "      <td>2.720000</td>\n",
       "      <td>0.220000</td>\n",
       "      <td>8.000000</td>\n",
       "      <td>3.000000</td>\n",
       "    </tr>\n",
       "    <tr>\n",
       "      <th>25%</th>\n",
       "      <td>6.300000</td>\n",
       "      <td>0.210000</td>\n",
       "      <td>0.270000</td>\n",
       "      <td>1.700000</td>\n",
       "      <td>0.036000</td>\n",
       "      <td>23.000000</td>\n",
       "      <td>108.000000</td>\n",
       "      <td>0.991723</td>\n",
       "      <td>3.090000</td>\n",
       "      <td>0.410000</td>\n",
       "      <td>9.500000</td>\n",
       "      <td>5.000000</td>\n",
       "    </tr>\n",
       "    <tr>\n",
       "      <th>50%</th>\n",
       "      <td>6.800000</td>\n",
       "      <td>0.260000</td>\n",
       "      <td>0.320000</td>\n",
       "      <td>5.200000</td>\n",
       "      <td>0.043000</td>\n",
       "      <td>34.000000</td>\n",
       "      <td>134.000000</td>\n",
       "      <td>0.993740</td>\n",
       "      <td>3.180000</td>\n",
       "      <td>0.470000</td>\n",
       "      <td>10.400000</td>\n",
       "      <td>6.000000</td>\n",
       "    </tr>\n",
       "    <tr>\n",
       "      <th>75%</th>\n",
       "      <td>7.300000</td>\n",
       "      <td>0.320000</td>\n",
       "      <td>0.390000</td>\n",
       "      <td>9.900000</td>\n",
       "      <td>0.050000</td>\n",
       "      <td>46.000000</td>\n",
       "      <td>167.000000</td>\n",
       "      <td>0.996100</td>\n",
       "      <td>3.280000</td>\n",
       "      <td>0.550000</td>\n",
       "      <td>11.400000</td>\n",
       "      <td>6.000000</td>\n",
       "    </tr>\n",
       "    <tr>\n",
       "      <th>max</th>\n",
       "      <td>14.200000</td>\n",
       "      <td>1.100000</td>\n",
       "      <td>1.660000</td>\n",
       "      <td>65.800000</td>\n",
       "      <td>0.346000</td>\n",
       "      <td>289.000000</td>\n",
       "      <td>440.000000</td>\n",
       "      <td>1.038980</td>\n",
       "      <td>3.820000</td>\n",
       "      <td>1.080000</td>\n",
       "      <td>14.200000</td>\n",
       "      <td>9.000000</td>\n",
       "    </tr>\n",
       "  </tbody>\n",
       "</table>\n",
       "</div>"
      ],
      "text/plain": [
       "       fixed acidity  volatile acidity  citric acid  residual sugar  \\\n",
       "count    4898.000000       4898.000000  4898.000000     4898.000000   \n",
       "mean        6.854788          0.278241     0.334192        6.391415   \n",
       "std         0.843868          0.100795     0.121020        5.072058   \n",
       "min         3.800000          0.080000     0.000000        0.600000   \n",
       "25%         6.300000          0.210000     0.270000        1.700000   \n",
       "50%         6.800000          0.260000     0.320000        5.200000   \n",
       "75%         7.300000          0.320000     0.390000        9.900000   \n",
       "max        14.200000          1.100000     1.660000       65.800000   \n",
       "\n",
       "         chlorides  free sulfur dioxide  total sulfur dioxide      density  \\\n",
       "count  4898.000000          4898.000000           4898.000000  4898.000000   \n",
       "mean      0.045772            35.308085            138.360657     0.994027   \n",
       "std       0.021848            17.007137             42.498065     0.002991   \n",
       "min       0.009000             2.000000              9.000000     0.987110   \n",
       "25%       0.036000            23.000000            108.000000     0.991723   \n",
       "50%       0.043000            34.000000            134.000000     0.993740   \n",
       "75%       0.050000            46.000000            167.000000     0.996100   \n",
       "max       0.346000           289.000000            440.000000     1.038980   \n",
       "\n",
       "                pH    sulphates      alcohol      quality  \n",
       "count  4898.000000  4898.000000  4898.000000  4898.000000  \n",
       "mean      3.188267     0.489847    10.514267     5.877909  \n",
       "std       0.151001     0.114126     1.230621     0.885639  \n",
       "min       2.720000     0.220000     8.000000     3.000000  \n",
       "25%       3.090000     0.410000     9.500000     5.000000  \n",
       "50%       3.180000     0.470000    10.400000     6.000000  \n",
       "75%       3.280000     0.550000    11.400000     6.000000  \n",
       "max       3.820000     1.080000    14.200000     9.000000  "
      ]
     },
     "execution_count": 6,
     "metadata": {},
     "output_type": "execute_result"
    }
   ],
   "source": [
    "# white wine\n",
    "white_wine.describe()"
   ]
  },
  {
   "cell_type": "code",
   "execution_count": 7,
   "id": "70a411c3",
   "metadata": {},
   "outputs": [
    {
     "data": {
      "text/plain": [
       "<BarContainer object of 7 artists>"
      ]
     },
     "execution_count": 7,
     "metadata": {},
     "output_type": "execute_result"
    },
    {
     "data": {
      "image/png": "[encoded data removed]",
      "text/plain": [
       "<Figure size 640x480 with 1 Axes>"
      ]
     },
     "metadata": {},
     "output_type": "display_data"
    }
   ],
   "source": [
    "# distribution of quality for white wine\n",
    "value_counts = Counter(dfw['quality'])\n",
    "whitex = list(value_counts.keys())\n",
    "whitey = list(value_counts.values())\n",
    "plt.bar(whitex, whitey)"
   ]
  },
  {
   "cell_type": "markdown",
   "id": "5611ee7c",
   "metadata": {},
   "source": [
    "### Feature Importance Function"
   ]
  },
  {
   "cell_type": "code",
   "execution_count": 8,
   "id": "9eeae83a",
   "metadata": {},
   "outputs": [],
   "source": [
    "def plot_feature_importances(model):\n",
    "    n_features = X.shape[1]\n",
    "    plt.barh(np.arange(n_features), model.feature_importances_, align='center')\n",
    "    plt.yticks(np.arange(n_features), X)\n",
    "    plt.xlabel(\"Feature importance\")\n",
    "    plt.ylabel(\"Feature\")\n",
    "    plt.ylim(-1, n_features)"
   ]
  },
  {
   "cell_type": "markdown",
   "id": "0c370635",
   "metadata": {},
   "source": [
    "## Red Wine Decision Tree"
   ]
  },
  {
   "cell_type": "code",
   "execution_count": 9,
   "id": "fef722f3",
   "metadata": {
    "scrolled": true
   },
   "outputs": [
    {
     "name": "stderr",
     "output_type": "stream",
     "text": [
      "C:\\Users\\ninja\\AppData\\Local\\Temp\\ipykernel_34136\\1341055060.py:3: FutureWarning: Support for multi-dimensional indexing (e.g. `obj[:, None]`) is deprecated and will be removed in a future version.  Convert to a numpy array before indexing instead.\n",
      "  y = dfr['quality'][:,np.newaxis]\n"
     ]
    }
   ],
   "source": [
    "# convert the data into a 2D array with np.newaxis\n",
    "X = dfr.drop('quality', axis=1)\n",
    "y = dfr['quality'][:,np.newaxis]\n",
    "\n",
    "# split the red wine data into train and test\n",
    "X_train, X_test, y_train, y_test = train_test_split(X, y, random_state=42, stratify=y)"
   ]
  },
  {
   "cell_type": "code",
   "execution_count": 10,
   "id": "7c58e299",
   "metadata": {},
   "outputs": [
    {
     "data": {
      "text/plain": [
       "[<matplotlib.lines.Line2D at 0x1a8eadec670>]"
      ]
     },
     "execution_count": 10,
     "metadata": {},
     "output_type": "execute_result"
    },
    {
     "data": {
      "text/plain": [
       "[<matplotlib.lines.Line2D at 0x1a8eadec8e0>]"
      ]
     },
     "execution_count": 10,
     "metadata": {},
     "output_type": "execute_result"
    },
    {
     "data": {
      "text/plain": [
       "Text(0.5, 0, 'Depth')"
      ]
     },
     "execution_count": 10,
     "metadata": {},
     "output_type": "execute_result"
    },
    {
     "data": {
      "text/plain": [
       "Text(0, 0.5, 'R^2')"
      ]
     },
     "execution_count": 10,
     "metadata": {},
     "output_type": "execute_result"
    },
    {
     "data": {
      "text/plain": [
       "Text(0.5, 1.0, 'Red Wine Accuracy Chart')"
      ]
     },
     "execution_count": 10,
     "metadata": {},
     "output_type": "execute_result"
    },
    {
     "name": "stdout",
     "output_type": "stream",
     "text": [
      "6\n"
     ]
    },
    {
     "data": {
      "image/png": "[encoded data removed]",
      "text/plain": [
       "<Figure size 640x480 with 1 Axes>"
      ]
     },
     "metadata": {},
     "output_type": "display_data"
    }
   ],
   "source": [
    "# create a list for train and test scores to find the best depth\n",
    "# z.score is not zscore\n",
    "rtrain = []\n",
    "rtest = []\n",
    "for i in range(1,15):\n",
    "    z = DecisionTreeRegressor(max_depth=i, random_state=42).fit(X_train, y_train)\n",
    "    rtrain.append(z.score(X_train, y_train))\n",
    "    rtest.append(z.score(X_test, y_test))\n",
    "\n",
    "# plot the graph to see best max depth\n",
    "plt.plot(rtrain)\n",
    "plt.plot(rtest)\n",
    "plt.xlabel('Depth')\n",
    "plt.ylabel('R^2')\n",
    "plt.title('Red Wine Accuracy Chart')\n",
    "\n",
    "# find the best depth based on highest test accuracy\n",
    "rmaxd = rtest.index(max(rtest))\n",
    "print(rmaxd)"
   ]
  },
  {
   "cell_type": "code",
   "execution_count": 11,
   "id": "b365e83b",
   "metadata": {},
   "outputs": [],
   "source": [
    "# fit tree\n",
    "rtree = DecisionTreeRegressor(max_depth=rmaxd, random_state=42).fit(X_train, y_train)\n",
    "\n",
    "# predict on all data\n",
    "X_all = X\n",
    "pred_tree = rtree.predict(X_all)"
   ]
  },
  {
   "cell_type": "code",
   "execution_count": 1,
   "id": "c5a431fd",
   "metadata": {},
   "outputs": [
    {
     "ename": "NameError",
     "evalue": "name 'dfr' is not defined",
     "output_type": "error",
     "traceback": [
      "\u001b[1;31m---------------------------------------------------------------------------\u001b[0m",
      "\u001b[1;31mNameError\u001b[0m                                 Traceback (most recent call last)",
      "Cell \u001b[1;32mIn[1], line 3\u001b[0m\n\u001b[0;32m      1\u001b[0m \u001b[38;5;66;03m# create a decision tree and output it into a png by navigating to the file in cmd prompt then using:\u001b[39;00m\n\u001b[0;32m      2\u001b[0m \u001b[38;5;66;03m# dot -Tpng redtree.dot > redtree.png\u001b[39;00m\n\u001b[1;32m----> 3\u001b[0m r_feature_names \u001b[38;5;241m=\u001b[39m \u001b[43mdfr\u001b[49m\u001b[38;5;241m.\u001b[39mcolumns\u001b[38;5;241m.\u001b[39mvalues\u001b[38;5;241m.\u001b[39mtolist()\n\u001b[0;32m      4\u001b[0m r_feature_names\u001b[38;5;241m.\u001b[39mremove(\u001b[38;5;124m'\u001b[39m\u001b[38;5;124mquality\u001b[39m\u001b[38;5;124m'\u001b[39m)\n\u001b[0;32m      5\u001b[0m export_graphviz(rtree, out_file\u001b[38;5;241m=\u001b[39m\u001b[38;5;124m\"\u001b[39m\u001b[38;5;124mredtree.dot\u001b[39m\u001b[38;5;124m\"\u001b[39m,feature_names \u001b[38;5;241m=\u001b[39m r_feature_names, filled \u001b[38;5;241m=\u001b[39m \u001b[38;5;28;01mTrue\u001b[39;00m, rounded\u001b[38;5;241m=\u001b[39m\u001b[38;5;28;01mTrue\u001b[39;00m)\n",
      "\u001b[1;31mNameError\u001b[0m: name 'dfr' is not defined"
     ]
    }
   ],
   "source": [
    "# create a decision tree and output it into a png by navigating to the file in cmd prompt then using:\n",
    "# dot -Tpng redtree.dot > redtree.png\n",
    "r_feature_names = dfr.columns.values.tolist()\n",
    "r_feature_names.remove('quality')\n",
    "export_graphviz(rtree, out_file=\"redtree.dot\",feature_names = r_feature_names, filled = True, rounded=True)\n",
    "display(Image(filename='redtree.png'))"
   ]
  },
  {
   "cell_type": "code",
   "execution_count": 13,
   "id": "c273c852",
   "metadata": {
    "scrolled": false
   },
   "outputs": [
    {
     "name": "stdout",
     "output_type": "stream",
     "text": [
      "Mean squared error for train set: 0.29\n",
      "Mean squared error for test set: 0.47\n",
      "Root Mean squared error for train set: 0.54\n",
      "Root Mean squared error for test set: 0.68\n",
      "Train set R^2: 0.549\n",
      "Test set R^2: 0.279\n"
     ]
    }
   ],
   "source": [
    "# print accuracy of tree\n",
    "# MSE\n",
    "print(\"Mean squared error for train set: %.2f\" % mean_squared_error(y_train, rtree.predict(X_train)))\n",
    "print(\"Mean squared error for test set: %.2f\" % mean_squared_error(y_test, rtree.predict(X_test)))\n",
    "\n",
    "# RMSE\n",
    "print(\"Root Mean squared error for train set: %.2f\" % math.sqrt(mean_squared_error(y_train, rtree.predict(X_train))))\n",
    "print(\"Root Mean squared error for test set: %.2f\" % math.sqrt(mean_squared_error(y_test, rtree.predict(X_test))))\n",
    "\n",
    "# Coefficient of determination\n",
    "print('Train set R^2: {:.3f}'.format(rtree.score(X_train, y_train)))\n",
    "print('Test set R^2: {:.3f}'.format(rtree.score(X_test, y_test)))"
   ]
  },
  {
   "cell_type": "code",
   "execution_count": 14,
   "id": "ea1e7d5a",
   "metadata": {},
   "outputs": [
    {
     "name": "stdout",
     "output_type": "stream",
     "text": [
      "fixed acidity: 0.023\n",
      "volatile acidity: 0.178\n",
      "citric acid: 0.005\n",
      "residual sugar: 0.022\n",
      "chlorides: 0.038\n",
      "free sulfur dioxide: 0.031\n",
      "total sulfur dioxide: 0.040\n",
      "density: 0.030\n",
      "pH: 0.022\n",
      "sulphates: 0.177\n",
      "alcohol: 0.434\n"
     ]
    }
   ],
   "source": [
    "# print feature importanct of red wine\n",
    "r=0\n",
    "for i in X:\n",
    "    print('{f}: {g:.3f}'.format(f=i, g=rtree.feature_importances_[r]))\n",
    "    r+=1"
   ]
  },
  {
   "cell_type": "code",
   "execution_count": 15,
   "id": "d19fb770",
   "metadata": {},
   "outputs": [
    {
     "data": {
      "text/plain": [
       "array([0.02259522, 0.17807193, 0.0045791 , 0.02240624, 0.03785644,\n",
       "       0.03069933, 0.03994394, 0.03029159, 0.02240568, 0.17681453,\n",
       "       0.43433599])"
      ]
     },
     "execution_count": 15,
     "metadata": {},
     "output_type": "execute_result"
    },
    {
     "data": {
      "image/png": "[encoded data removed]",
      "text/plain": [
       "<Figure size 640x480 with 1 Axes>"
      ]
     },
     "metadata": {},
     "output_type": "display_data"
    }
   ],
   "source": [
    "# plot the features\n",
    "plot_feature_importances(rtree)\n",
    "rtree.feature_importances_"
   ]
  },
  {
   "cell_type": "markdown",
   "id": "c5cd3bfb",
   "metadata": {},
   "source": [
    "### Red Wine Forest"
   ]
  },
  {
   "cell_type": "code",
   "execution_count": 16,
   "id": "668eb227",
   "metadata": {
    "scrolled": false
   },
   "outputs": [
    {
     "name": "stderr",
     "output_type": "stream",
     "text": [
      "C:\\Users\\ninja\\AppData\\Local\\Temp\\ipykernel_34136\\2843042639.py:3: DataConversionWarning: A column-vector y was passed when a 1d array was expected. Please change the shape of y to (n_samples,), for example using ravel().\n",
      "  rforest.fit(X_train, y_train)\n"
     ]
    },
    {
     "data": {
      "text/html": [
       "<style>#sk-container-id-1 {color: black;background-color: white;}#sk-container-id-1 pre{padding: 0;}#sk-container-id-1 div.sk-toggleable {background-color: white;}#sk-container-id-1 label.sk-toggleable__label {cursor: pointer;display: block;width: 100%;margin-bottom: 0;padding: 0.3em;box-sizing: border-box;text-align: center;}#sk-container-id-1 label.sk-toggleable__label-arrow:before {content: \"▸\";float: left;margin-right: 0.25em;color: #696969;}#sk-container-id-1 label.sk-toggleable__label-arrow:hover:before {color: black;}#sk-container-id-1 div.sk-estimator:hover label.sk-toggleable__label-arrow:before {color: black;}#sk-container-id-1 div.sk-toggleable__content {max-height: 0;max-width: 0;overflow: hidden;text-align: left;background-color: #f0f8ff;}#sk-container-id-1 div.sk-toggleable__content pre {margin: 0.2em;color: black;border-radius: 0.25em;background-color: #f0f8ff;}#sk-container-id-1 input.sk-toggleable__control:checked~div.sk-toggleable__content {max-height: 200px;max-width: 100%;overflow: auto;}#sk-container-id-1 input.sk-toggleable__control:checked~label.sk-toggleable__label-arrow:before {content: \"▾\";}#sk-container-id-1 div.sk-estimator input.sk-toggleable__control:checked~label.sk-toggleable__label {background-color: #d4ebff;}#sk-container-id-1 div.sk-label input.sk-toggleable__control:checked~label.sk-toggleable__label {background-color: #d4ebff;}#sk-container-id-1 input.sk-hidden--visually {border: 0;clip: rect(1px 1px 1px 1px);clip: rect(1px, 1px, 1px, 1px);height: 1px;margin: -1px;overflow: hidden;padding: 0;position: absolute;width: 1px;}#sk-container-id-1 div.sk-estimator {font-family: monospace;background-color: #f0f8ff;border: 1px dotted black;border-radius: 0.25em;box-sizing: border-box;margin-bottom: 0.5em;}#sk-container-id-1 div.sk-estimator:hover {background-color: #d4ebff;}#sk-container-id-1 div.sk-parallel-item::after {content: \"\";width: 100%;border-bottom: 1px solid gray;flex-grow: 1;}#sk-container-id-1 div.sk-label:hover label.sk-toggleable__label {background-color: #d4ebff;}#sk-container-id-1 div.sk-serial::before {content: \"\";position: absolute;border-left: 1px solid gray;box-sizing: border-box;top: 0;bottom: 0;left: 50%;z-index: 0;}#sk-container-id-1 div.sk-serial {display: flex;flex-direction: column;align-items: center;background-color: white;padding-right: 0.2em;padding-left: 0.2em;position: relative;}#sk-container-id-1 div.sk-item {position: relative;z-index: 1;}#sk-container-id-1 div.sk-parallel {display: flex;align-items: stretch;justify-content: center;background-color: white;position: relative;}#sk-container-id-1 div.sk-item::before, #sk-container-id-1 div.sk-parallel-item::before {content: \"\";position: absolute;border-left: 1px solid gray;box-sizing: border-box;top: 0;bottom: 0;left: 50%;z-index: -1;}#sk-container-id-1 div.sk-parallel-item {display: flex;flex-direction: column;z-index: 1;position: relative;background-color: white;}#sk-container-id-1 div.sk-parallel-item:first-child::after {align-self: flex-end;width: 50%;}#sk-container-id-1 div.sk-parallel-item:last-child::after {align-self: flex-start;width: 50%;}#sk-container-id-1 div.sk-parallel-item:only-child::after {width: 0;}#sk-container-id-1 div.sk-dashed-wrapped {border: 1px dashed gray;margin: 0 0.4em 0.5em 0.4em;box-sizing: border-box;padding-bottom: 0.4em;background-color: white;}#sk-container-id-1 div.sk-label label {font-family: monospace;font-weight: bold;display: inline-block;line-height: 1.2em;}#sk-container-id-1 div.sk-label-container {text-align: center;}#sk-container-id-1 div.sk-container {/* jupyter's `normalize.less` sets `[hidden] { display: none; }` but bootstrap.min.css set `[hidden] { display: none !important; }` so we also need the `!important` here to be able to override the default hidden behavior on the sphinx rendered scikit-learn.org. See: https://github.com/scikit-learn/scikit-learn/issues/21755 */display: inline-block !important;position: relative;}#sk-container-id-1 div.sk-text-repr-fallback {display: none;}</style><div id=\"sk-container-id-1\" class=\"sk-top-container\"><div class=\"sk-text-repr-fallback\"><pre>RandomForestRegressor(random_state=42)</pre><b>In a Jupyter environment, please rerun this cell to show the HTML representation or trust the notebook. <br />On GitHub, the HTML representation is unable to render, please try loading this page with nbviewer.org.</b></div><div class=\"sk-container\" hidden><div class=\"sk-item\"><div class=\"sk-estimator sk-toggleable\"><input class=\"sk-toggleable__control sk-hidden--visually\" id=\"sk-estimator-id-1\" type=\"checkbox\" checked><label for=\"sk-estimator-id-1\" class=\"sk-toggleable__label sk-toggleable__label-arrow\">RandomForestRegressor</label><div class=\"sk-toggleable__content\"><pre>RandomForestRegressor(random_state=42)</pre></div></div></div></div></div>"
      ],
      "text/plain": [
       "RandomForestRegressor(random_state=42)"
      ]
     },
     "execution_count": 16,
     "metadata": {},
     "output_type": "execute_result"
    },
    {
     "data": {
      "text/plain": [
       "array([5.05, 5.16, 5.09, ..., 5.2 , 5.25, 5.97])"
      ]
     },
     "execution_count": 16,
     "metadata": {},
     "output_type": "execute_result"
    },
    {
     "data": {
      "text/plain": [
       "array([5.84, 5.07, 5.12, 6.3 , 4.98, 5.99, 5.01, 5.06, 5.71, 5.74, 5.34,\n",
       "       5.47, 5.66, 5.42, 5.28, 6.54, 5.15, 5.04, 5.56, 5.63, 6.27, 6.41,\n",
       "       6.34, 7.28, 5.5 , 5.96, 6.48, 5.06, 6.72, 5.71, 5.8 , 5.57, 5.43,\n",
       "       4.99, 6.1 , 5.53, 4.74, 5.85, 5.28, 5.21, 6.16, 4.89, 5.97, 5.65,\n",
       "       6.01, 6.72, 5.02, 5.36, 6.13, 5.55, 5.4 , 5.05, 5.42, 6.69, 5.45,\n",
       "       5.1 , 5.92, 6.4 , 6.14, 6.26, 5.29, 4.91, 5.12, 5.32, 5.72, 5.64,\n",
       "       5.75, 5.11, 5.83, 5.58, 6.41, 6.31, 5.83, 5.84, 6.18, 5.15, 6.26,\n",
       "       5.51, 5.75, 5.06, 5.9 , 4.44, 6.1 , 5.06, 6.02, 5.12, 5.79, 6.41,\n",
       "       6.02, 6.26, 6.84, 5.79, 4.85, 5.21, 6.13, 5.35, 4.94, 5.5 , 5.  ,\n",
       "       6.05, 5.56, 6.24, 4.93, 5.36, 5.14, 6.86, 5.93, 5.26, 6.97, 5.7 ,\n",
       "       6.76, 5.52, 5.6 , 6.6 , 6.08, 6.  , 5.62, 6.56, 5.06, 5.42, 5.71,\n",
       "       6.48, 4.89, 5.7 , 5.83, 6.07, 5.07, 6.37, 5.66, 6.23, 5.29, 5.6 ,\n",
       "       5.74, 5.81, 6.49, 5.69, 4.93, 5.01, 5.03, 5.35, 5.81, 5.04, 5.02,\n",
       "       5.17, 5.05, 5.09, 5.99, 5.61, 7.04, 5.5 , 5.22, 5.69, 5.62, 6.58,\n",
       "       5.09, 6.04, 5.52, 5.66, 4.73, 5.11, 5.79, 5.62, 6.42, 5.62, 6.9 ,\n",
       "       6.21, 5.45, 5.51, 6.03, 6.31, 6.57, 4.92, 6.11, 6.33, 5.64, 5.6 ,\n",
       "       5.18, 5.92, 4.58, 5.82, 5.91, 6.03, 6.01, 5.47, 5.68, 6.32, 5.55,\n",
       "       4.91, 6.29, 5.07, 5.5 , 5.97, 5.88, 6.38, 5.63, 5.16, 5.16, 5.33,\n",
       "       5.22, 5.42, 5.1 , 5.19, 5.26, 5.47, 6.49, 5.97, 6.27, 5.51, 5.  ,\n",
       "       6.92, 5.59, 5.07, 5.11, 5.34, 5.1 , 5.44, 5.6 , 5.54, 6.  , 5.5 ,\n",
       "       5.4 , 5.19, 6.53, 5.16, 5.91, 6.22, 6.26, 5.05, 6.87, 6.12, 6.08,\n",
       "       4.97, 5.88, 4.69, 5.63, 6.39, 5.62, 4.99, 5.1 , 6.25, 6.49, 5.19,\n",
       "       5.22, 5.46, 5.35, 5.63, 5.67, 5.94, 5.81, 7.45, 5.71, 5.92, 5.53,\n",
       "       5.4 , 5.42, 5.11, 5.57, 5.91, 6.02, 5.28, 5.02, 5.33, 6.08, 6.34,\n",
       "       5.08, 6.1 , 6.52, 6.51, 5.63, 5.71, 5.17, 6.02, 5.2 , 5.01, 5.9 ,\n",
       "       5.28, 5.01, 5.9 , 5.61, 6.99, 5.26, 6.29, 5.49, 5.36, 5.26, 6.11,\n",
       "       6.19, 5.23, 5.83, 5.13, 5.14, 5.56, 6.89, 5.06, 5.93, 5.75, 5.03,\n",
       "       5.16, 5.03, 5.79, 6.01, 5.56, 6.85, 5.36, 5.68, 5.93, 5.69, 5.24,\n",
       "       5.25, 5.03, 5.3 , 5.16, 6.71, 5.5 , 5.99, 5.38, 4.95, 6.41, 6.25,\n",
       "       5.71, 6.46, 6.12, 5.4 , 5.45, 5.28, 6.44, 5.2 , 5.08, 5.14, 5.6 ,\n",
       "       5.37, 5.74, 5.73, 6.03, 5.85, 6.87, 5.81, 5.38, 5.93, 5.08, 5.33,\n",
       "       4.95, 5.54, 5.07, 5.85, 4.75, 5.59, 5.89, 5.55, 5.32, 5.37, 5.17,\n",
       "       5.77, 6.  , 6.47, 6.25, 5.7 , 5.14, 5.16, 5.19, 6.61, 5.85, 5.44,\n",
       "       5.1 , 5.28, 5.18, 4.96, 6.48, 5.14, 5.2 , 6.4 , 4.94, 6.21, 5.49,\n",
       "       5.01, 5.3 , 6.6 , 6.41, 5.3 , 5.62, 5.09, 5.78, 5.61, 5.67, 5.9 ,\n",
       "       5.05, 5.6 , 5.44, 5.78, 5.76, 5.84, 5.24, 5.31, 5.24, 5.16, 5.  ,\n",
       "       6.53, 5.04, 4.99, 5.67])"
      ]
     },
     "execution_count": 16,
     "metadata": {},
     "output_type": "execute_result"
    }
   ],
   "source": [
    "rforest = RandomForestRegressor(n_estimators=100, random_state=42, max_depth=None)\n",
    "\n",
    "rforest.fit(X_train, y_train)\n",
    "\n",
    "rforest.predict(X_train)\n",
    "rforest.predict(X_test)"
   ]
  },
  {
   "cell_type": "code",
   "execution_count": 17,
   "id": "68beb52d",
   "metadata": {
    "scrolled": true
   },
   "outputs": [
    {
     "name": "stdout",
     "output_type": "stream",
     "text": [
      "Mean squared error for train set: 0.05\n",
      "Mean squared error for test set: 0.34\n",
      "Root Mean squared error for train set: 0.22\n",
      "Root Mean squared error for test set: 0.58\n",
      "Train set R^2: 0.927\n",
      "Test set R^2: 0.483\n"
     ]
    }
   ],
   "source": [
    "# MSE\n",
    "print(\"Mean squared error for train set: %.2f\" % mean_squared_error(y_train, rforest.predict(X_train)))\n",
    "print(\"Mean squared error for test set: %.2f\" % mean_squared_error(y_test, rforest.predict(X_test)))\n",
    "\n",
    "# RMSE\n",
    "print(\"Root Mean squared error for train set: %.2f\" % math.sqrt(mean_squared_error(y_train, rforest.predict(X_train))))\n",
    "print(\"Root Mean squared error for test set: %.2f\" % math.sqrt(mean_squared_error(y_test, rforest.predict(X_test))))\n",
    "\n",
    "# Coefficient of determination\n",
    "print('Train set R^2: {:.3f}'.format(rforest.score(X_train, y_train)))\n",
    "print('Test set R^2: {:.3f}'.format(rforest.score(X_test, y_test)))"
   ]
  },
  {
   "cell_type": "code",
   "execution_count": 18,
   "id": "5281d41c",
   "metadata": {},
   "outputs": [
    {
     "name": "stdout",
     "output_type": "stream",
     "text": [
      "fixed acidity: 0.053\n",
      "volatile acidity: 0.130\n",
      "citric acid: 0.047\n",
      "residual sugar: 0.058\n",
      "chlorides: 0.064\n",
      "free sulfur dioxide: 0.044\n",
      "total sulfur dioxide: 0.073\n",
      "density: 0.056\n",
      "pH: 0.063\n",
      "sulphates: 0.131\n",
      "alcohol: 0.281\n"
     ]
    }
   ],
   "source": [
    "# print feature importance of red wine\n",
    "r=0\n",
    "for i in X:\n",
    "    print('{f}: {g:.3f}'.format(f=i, g=rforest.feature_importances_[r]))\n",
    "    r+=1"
   ]
  },
  {
   "cell_type": "code",
   "execution_count": 19,
   "id": "9c333356",
   "metadata": {
    "scrolled": false
   },
   "outputs": [
    {
     "data": {
      "image/png": "[encoded data removed]",
      "text/plain": [
       "<Figure size 640x480 with 1 Axes>"
      ]
     },
     "metadata": {},
     "output_type": "display_data"
    }
   ],
   "source": [
    "plot_feature_importances(rforest)"
   ]
  },
  {
   "cell_type": "markdown",
   "id": "30d30559",
   "metadata": {},
   "source": [
    "### Red Wine Random Forest with Max Features"
   ]
  },
  {
   "cell_type": "code",
   "execution_count": 20,
   "id": "191159c2",
   "metadata": {},
   "outputs": [
    {
     "name": "stderr",
     "output_type": "stream",
     "text": [
      "C:\\Users\\ninja\\AppData\\Local\\Temp\\ipykernel_34136\\3469313600.py:5: DataConversionWarning: A column-vector y was passed when a 1d array was expected. Please change the shape of y to (n_samples,), for example using ravel().\n",
      "  z = RandomForestRegressor(n_estimators=100, random_state=42, max_depth=None, max_features=i).fit(X_train, y_train)\n",
      "C:\\Users\\ninja\\AppData\\Local\\Temp\\ipykernel_34136\\3469313600.py:5: DataConversionWarning: A column-vector y was passed when a 1d array was expected. Please change the shape of y to (n_samples,), for example using ravel().\n",
      "  z = RandomForestRegressor(n_estimators=100, random_state=42, max_depth=None, max_features=i).fit(X_train, y_train)\n",
      "C:\\Users\\ninja\\AppData\\Local\\Temp\\ipykernel_34136\\3469313600.py:5: DataConversionWarning: A column-vector y was passed when a 1d array was expected. Please change the shape of y to (n_samples,), for example using ravel().\n",
      "  z = RandomForestRegressor(n_estimators=100, random_state=42, max_depth=None, max_features=i).fit(X_train, y_train)\n",
      "C:\\Users\\ninja\\AppData\\Local\\Temp\\ipykernel_34136\\3469313600.py:5: DataConversionWarning: A column-vector y was passed when a 1d array was expected. Please change the shape of y to (n_samples,), for example using ravel().\n",
      "  z = RandomForestRegressor(n_estimators=100, random_state=42, max_depth=None, max_features=i).fit(X_train, y_train)\n",
      "C:\\Users\\ninja\\AppData\\Local\\Temp\\ipykernel_34136\\3469313600.py:5: DataConversionWarning: A column-vector y was passed when a 1d array was expected. Please change the shape of y to (n_samples,), for example using ravel().\n",
      "  z = RandomForestRegressor(n_estimators=100, random_state=42, max_depth=None, max_features=i).fit(X_train, y_train)\n",
      "C:\\Users\\ninja\\AppData\\Local\\Temp\\ipykernel_34136\\3469313600.py:5: DataConversionWarning: A column-vector y was passed when a 1d array was expected. Please change the shape of y to (n_samples,), for example using ravel().\n",
      "  z = RandomForestRegressor(n_estimators=100, random_state=42, max_depth=None, max_features=i).fit(X_train, y_train)\n",
      "C:\\Users\\ninja\\AppData\\Local\\Temp\\ipykernel_34136\\3469313600.py:5: DataConversionWarning: A column-vector y was passed when a 1d array was expected. Please change the shape of y to (n_samples,), for example using ravel().\n",
      "  z = RandomForestRegressor(n_estimators=100, random_state=42, max_depth=None, max_features=i).fit(X_train, y_train)\n",
      "C:\\Users\\ninja\\AppData\\Local\\Temp\\ipykernel_34136\\3469313600.py:5: DataConversionWarning: A column-vector y was passed when a 1d array was expected. Please change the shape of y to (n_samples,), for example using ravel().\n",
      "  z = RandomForestRegressor(n_estimators=100, random_state=42, max_depth=None, max_features=i).fit(X_train, y_train)\n",
      "C:\\Users\\ninja\\AppData\\Local\\Temp\\ipykernel_34136\\3469313600.py:5: DataConversionWarning: A column-vector y was passed when a 1d array was expected. Please change the shape of y to (n_samples,), for example using ravel().\n",
      "  z = RandomForestRegressor(n_estimators=100, random_state=42, max_depth=None, max_features=i).fit(X_train, y_train)\n",
      "C:\\Users\\ninja\\AppData\\Local\\Temp\\ipykernel_34136\\3469313600.py:5: DataConversionWarning: A column-vector y was passed when a 1d array was expected. Please change the shape of y to (n_samples,), for example using ravel().\n",
      "  z = RandomForestRegressor(n_estimators=100, random_state=42, max_depth=None, max_features=i).fit(X_train, y_train)\n",
      "C:\\Users\\ninja\\AppData\\Local\\Temp\\ipykernel_34136\\3469313600.py:5: DataConversionWarning: A column-vector y was passed when a 1d array was expected. Please change the shape of y to (n_samples,), for example using ravel().\n",
      "  z = RandomForestRegressor(n_estimators=100, random_state=42, max_depth=None, max_features=i).fit(X_train, y_train)\n",
      "C:\\Users\\ninja\\AppData\\Local\\Temp\\ipykernel_34136\\3469313600.py:5: DataConversionWarning: A column-vector y was passed when a 1d array was expected. Please change the shape of y to (n_samples,), for example using ravel().\n",
      "  z = RandomForestRegressor(n_estimators=100, random_state=42, max_depth=None, max_features=i).fit(X_train, y_train)\n",
      "C:\\Users\\ninja\\AppData\\Local\\Temp\\ipykernel_34136\\3469313600.py:5: DataConversionWarning: A column-vector y was passed when a 1d array was expected. Please change the shape of y to (n_samples,), for example using ravel().\n",
      "  z = RandomForestRegressor(n_estimators=100, random_state=42, max_depth=None, max_features=i).fit(X_train, y_train)\n",
      "C:\\Users\\ninja\\AppData\\Local\\Temp\\ipykernel_34136\\3469313600.py:5: DataConversionWarning: A column-vector y was passed when a 1d array was expected. Please change the shape of y to (n_samples,), for example using ravel().\n",
      "  z = RandomForestRegressor(n_estimators=100, random_state=42, max_depth=None, max_features=i).fit(X_train, y_train)\n"
     ]
    },
    {
     "data": {
      "text/plain": [
       "[<matplotlib.lines.Line2D at 0x1a8eafcb610>]"
      ]
     },
     "execution_count": 20,
     "metadata": {},
     "output_type": "execute_result"
    },
    {
     "data": {
      "text/plain": [
       "[<matplotlib.lines.Line2D at 0x1a8ea565dc0>]"
      ]
     },
     "execution_count": 20,
     "metadata": {},
     "output_type": "execute_result"
    },
    {
     "data": {
      "text/plain": [
       "Text(0.5, 0, 'Depth')"
      ]
     },
     "execution_count": 20,
     "metadata": {},
     "output_type": "execute_result"
    },
    {
     "data": {
      "text/plain": [
       "Text(0, 0.5, 'R^2')"
      ]
     },
     "execution_count": 20,
     "metadata": {},
     "output_type": "execute_result"
    },
    {
     "data": {
      "text/plain": [
       "Text(0.5, 1.0, 'Red Wine Accuracy Chart')"
      ]
     },
     "execution_count": 20,
     "metadata": {},
     "output_type": "execute_result"
    },
    {
     "name": "stdout",
     "output_type": "stream",
     "text": [
      "6\n"
     ]
    },
    {
     "data": {
      "image/png": "[encoded data removed]",
      "text/plain": [
       "<Figure size 640x480 with 1 Axes>"
      ]
     },
     "metadata": {},
     "output_type": "display_data"
    }
   ],
   "source": [
    "# create a chart to see what number of Max Features provides the highest R^2 value\n",
    "rftrain = []\n",
    "rftest = []\n",
    "for i in range(1,15):\n",
    "    z = RandomForestRegressor(n_estimators=100, random_state=42, max_depth=None, max_features=i).fit(X_train, y_train)\n",
    "    rftrain.append(z.score(X_train, y_train))\n",
    "    rftest.append(z.score(X_test, y_test))\n",
    "\n",
    "# plot the graph to see best max depth\n",
    "plt.plot(rftrain)\n",
    "plt.plot(rftest)\n",
    "plt.xlabel('Depth')\n",
    "plt.ylabel('R^2')\n",
    "plt.title('Red Wine Accuracy Chart')\n",
    "\n",
    "# find the best depth based on highest test accuracy\n",
    "rfmaxd = rftest.index(max(rftest))\n",
    "print(rfmaxd)"
   ]
  },
  {
   "cell_type": "code",
   "execution_count": 21,
   "id": "8a417077",
   "metadata": {},
   "outputs": [
    {
     "name": "stderr",
     "output_type": "stream",
     "text": [
      "C:\\Users\\ninja\\AppData\\Local\\Temp\\ipykernel_34136\\3898595264.py:2: DataConversionWarning: A column-vector y was passed when a 1d array was expected. Please change the shape of y to (n_samples,), for example using ravel().\n",
      "  rmforest = RandomForestRegressor(n_estimators=100, random_state=42, max_depth=None, max_features=rfmaxd).fit(X_train, y_train)\n"
     ]
    },
    {
     "name": "stdout",
     "output_type": "stream",
     "text": [
      "Train set R^2: 0.927\n",
      "Test set R^2: 0.483\n"
     ]
    }
   ],
   "source": [
    "# Display the test results of the forest with the best R^2\n",
    "rmforest = RandomForestRegressor(n_estimators=100, random_state=42, max_depth=None, max_features=rfmaxd).fit(X_train, y_train)\n",
    "\n",
    "print('Train set R^2: {:.3f}'.format(rforest.score(X_train, y_train)))\n",
    "print('Test set R^2: {:.3f}'.format(rforest.score(X_test, y_test)))"
   ]
  },
  {
   "cell_type": "markdown",
   "id": "468f8f7a",
   "metadata": {},
   "source": [
    "## White Wine Decision Tree"
   ]
  },
  {
   "cell_type": "code",
   "execution_count": 22,
   "id": "504134b5",
   "metadata": {
    "scrolled": true
   },
   "outputs": [
    {
     "name": "stderr",
     "output_type": "stream",
     "text": [
      "C:\\Users\\ninja\\AppData\\Local\\Temp\\ipykernel_34136\\2074544832.py:3: FutureWarning: Support for multi-dimensional indexing (e.g. `obj[:, None]`) is deprecated and will be removed in a future version.  Convert to a numpy array before indexing instead.\n",
      "  y = dfw['quality'][:,np.newaxis]\n"
     ]
    }
   ],
   "source": [
    "# convert the data into a 2D array with np.newaxis\n",
    "X = dfw.drop('quality', axis=1)\n",
    "y = dfw['quality'][:,np.newaxis]\n",
    "\n",
    "# split the white wine data into train and test\n",
    "X_train, X_test, y_train, y_test = train_test_split(X, y, random_state=42, stratify = y)"
   ]
  },
  {
   "cell_type": "code",
   "execution_count": 23,
   "id": "0052a5ca",
   "metadata": {},
   "outputs": [
    {
     "data": {
      "text/plain": [
       "[<matplotlib.lines.Line2D at 0x1a8eae42e80>]"
      ]
     },
     "execution_count": 23,
     "metadata": {},
     "output_type": "execute_result"
    },
    {
     "data": {
      "text/plain": [
       "[<matplotlib.lines.Line2D at 0x1a8eaf8d820>]"
      ]
     },
     "execution_count": 23,
     "metadata": {},
     "output_type": "execute_result"
    },
    {
     "data": {
      "text/plain": [
       "Text(0.5, 0, 'Depth')"
      ]
     },
     "execution_count": 23,
     "metadata": {},
     "output_type": "execute_result"
    },
    {
     "data": {
      "text/plain": [
       "Text(0, 0.5, 'R^2')"
      ]
     },
     "execution_count": 23,
     "metadata": {},
     "output_type": "execute_result"
    },
    {
     "data": {
      "text/plain": [
       "Text(0.5, 1.0, 'White Wine Accuracy Chart')"
      ]
     },
     "execution_count": 23,
     "metadata": {},
     "output_type": "execute_result"
    },
    {
     "name": "stdout",
     "output_type": "stream",
     "text": [
      "3\n"
     ]
    },
    {
     "data": {
      "image/png": "[encoded data removed]",
      "text/plain": [
       "<Figure size 640x480 with 1 Axes>"
      ]
     },
     "metadata": {},
     "output_type": "display_data"
    }
   ],
   "source": [
    "# create a list for train and test scores to find the best depth\n",
    "wtrain = []\n",
    "wtest = []\n",
    "for i in range(1,15):\n",
    "    z = DecisionTreeRegressor(max_depth=i, random_state=42).fit(X_train, y_train)\n",
    "    wtrain.append(z.score(X_train, y_train))\n",
    "    wtest.append(z.score(X_test, y_test))\n",
    "\n",
    "# plot the graph to see best max depth\n",
    "plt.plot(wtrain)\n",
    "plt.plot(wtest)\n",
    "plt.xlabel('Depth')\n",
    "plt.ylabel('R^2')\n",
    "plt.title('White Wine Accuracy Chart')\n",
    "\n",
    "# find the best depth based on highest test accuracy\n",
    "wmaxd = wtest.index(max(wtest))\n",
    "print(wmaxd)"
   ]
  },
  {
   "cell_type": "code",
   "execution_count": 24,
   "id": "d7ae02ad",
   "metadata": {},
   "outputs": [],
   "source": [
    "# fit tree\n",
    "wtree = DecisionTreeRegressor(max_depth=wmaxd, random_state=42).fit(X_train, y_train)\n",
    "\n",
    "# predict on all data\n",
    "X_all = X\n",
    "wpred_tree = wtree.predict(X_all)"
   ]
  },
  {
   "cell_type": "code",
   "execution_count": 25,
   "id": "4cf13711",
   "metadata": {
    "scrolled": true
   },
   "outputs": [],
   "source": [
    "# create a decision tree and output it into a png by navigating to the file in cmd prompt then using:\n",
    "# dot -Tpng whitetree.dot > whitetree.png\n",
    "w_feature_names = dfw.columns.values.tolist()\n",
    "w_feature_names.remove('quality')\n",
    "export_graphviz(wtree, out_file=\"whitetree.dot\",feature_names = w_feature_names, filled = True, rounded=True)\n",
    "display(Image(filename='whitetree.png'))"
   ]
  },
  {
   "cell_type": "code",
   "execution_count": 26,
   "id": "ccec4d8a",
   "metadata": {},
   "outputs": [
    {
     "name": "stdout",
     "output_type": "stream",
     "text": [
      "Mean squared error for train set: 0.56\n",
      "Mean squared error for test set: 0.58\n",
      "Root Mean squared error for train set: 0.75\n",
      "Root Mean squared error for test set: 0.76\n",
      "Train set R^2: 0.286\n",
      "Test set R^2: 0.262\n"
     ]
    }
   ],
   "source": [
    "# MSE\n",
    "print(\"Mean squared error for train set: %.2f\" % mean_squared_error(y_train, wtree.predict(X_train)))\n",
    "print(\"Mean squared error for test set: %.2f\" % mean_squared_error(y_test, wtree.predict(X_test)))\n",
    "\n",
    "# RMSE\n",
    "print(\"Root Mean squared error for train set: %.2f\" % math.sqrt(mean_squared_error(y_train, wtree.predict(X_train))))\n",
    "print(\"Root Mean squared error for test set: %.2f\" % math.sqrt(mean_squared_error(y_test, wtree.predict(X_test))))\n",
    "\n",
    "# Coefficient of determination\n",
    "print('Train set R^2: {:.3f}'.format(wtree.score(X_train, y_train)))\n",
    "print('Test set R^2: {:.3f}'.format(wtree.score(X_test, y_test)))"
   ]
  },
  {
   "cell_type": "code",
   "execution_count": 27,
   "id": "2f77b4b8",
   "metadata": {
    "scrolled": false
   },
   "outputs": [
    {
     "name": "stdout",
     "output_type": "stream",
     "text": [
      "Accuracy on training set: 0.286\n",
      "Accuracy on test set: 0.262\n"
     ]
    }
   ],
   "source": [
    "print(\"Accuracy on training set: {:.3f}\".format(wtree.score(X_train, y_train)))\n",
    "print(\"Accuracy on test set: {:.3f}\".format(wtree.score(X_test, y_test)))"
   ]
  },
  {
   "cell_type": "code",
   "execution_count": 28,
   "id": "1cb9f375",
   "metadata": {},
   "outputs": [
    {
     "name": "stdout",
     "output_type": "stream",
     "text": [
      "fixed acidity: 0.000\n",
      "volatile acidity: 0.211\n",
      "citric acid: 0.020\n",
      "residual sugar: 0.000\n",
      "chlorides: 0.000\n",
      "free sulfur dioxide: 0.123\n",
      "total sulfur dioxide: 0.000\n",
      "density: 0.000\n",
      "pH: 0.000\n",
      "sulphates: 0.000\n",
      "alcohol: 0.646\n"
     ]
    }
   ],
   "source": [
    "# print feature importanct of red wine\n",
    "r=0\n",
    "for i in X:\n",
    "    print('{f}: {g:.3f}'.format(f=i, g=wtree.feature_importances_[r]))\n",
    "    r+=1"
   ]
  },
  {
   "cell_type": "code",
   "execution_count": 29,
   "id": "07f801d6",
   "metadata": {},
   "outputs": [
    {
     "data": {
      "image/png": "[encoded data removed]",
      "text/plain": [
       "<Figure size 640x480 with 1 Axes>"
      ]
     },
     "metadata": {},
     "output_type": "display_data"
    }
   ],
   "source": [
    "plot_feature_importances(wtree)"
   ]
  },
  {
   "cell_type": "markdown",
   "id": "22e14f6d",
   "metadata": {},
   "source": [
    "### White Wine Random Forest"
   ]
  },
  {
   "cell_type": "code",
   "execution_count": 30,
   "id": "cc386d6b",
   "metadata": {
    "scrolled": false
   },
   "outputs": [
    {
     "name": "stderr",
     "output_type": "stream",
     "text": [
      "C:\\Users\\ninja\\AppData\\Local\\Temp\\ipykernel_34136\\2121806288.py:3: DataConversionWarning: A column-vector y was passed when a 1d array was expected. Please change the shape of y to (n_samples,), for example using ravel().\n",
      "  wforest.fit(X_train, y_train)\n"
     ]
    },
    {
     "data": {
      "text/html": [
       "<style>#sk-container-id-2 {color: black;background-color: white;}#sk-container-id-2 pre{padding: 0;}#sk-container-id-2 div.sk-toggleable {background-color: white;}#sk-container-id-2 label.sk-toggleable__label {cursor: pointer;display: block;width: 100%;margin-bottom: 0;padding: 0.3em;box-sizing: border-box;text-align: center;}#sk-container-id-2 label.sk-toggleable__label-arrow:before {content: \"▸\";float: left;margin-right: 0.25em;color: #696969;}#sk-container-id-2 label.sk-toggleable__label-arrow:hover:before {color: black;}#sk-container-id-2 div.sk-estimator:hover label.sk-toggleable__label-arrow:before {color: black;}#sk-container-id-2 div.sk-toggleable__content {max-height: 0;max-width: 0;overflow: hidden;text-align: left;background-color: #f0f8ff;}#sk-container-id-2 div.sk-toggleable__content pre {margin: 0.2em;color: black;border-radius: 0.25em;background-color: #f0f8ff;}#sk-container-id-2 input.sk-toggleable__control:checked~div.sk-toggleable__content {max-height: 200px;max-width: 100%;overflow: auto;}#sk-container-id-2 input.sk-toggleable__control:checked~label.sk-toggleable__label-arrow:before {content: \"▾\";}#sk-container-id-2 div.sk-estimator input.sk-toggleable__control:checked~label.sk-toggleable__label {background-color: #d4ebff;}#sk-container-id-2 div.sk-label input.sk-toggleable__control:checked~label.sk-toggleable__label {background-color: #d4ebff;}#sk-container-id-2 input.sk-hidden--visually {border: 0;clip: rect(1px 1px 1px 1px);clip: rect(1px, 1px, 1px, 1px);height: 1px;margin: -1px;overflow: hidden;padding: 0;position: absolute;width: 1px;}#sk-container-id-2 div.sk-estimator {font-family: monospace;background-color: #f0f8ff;border: 1px dotted black;border-radius: 0.25em;box-sizing: border-box;margin-bottom: 0.5em;}#sk-container-id-2 div.sk-estimator:hover {background-color: #d4ebff;}#sk-container-id-2 div.sk-parallel-item::after {content: \"\";width: 100%;border-bottom: 1px solid gray;flex-grow: 1;}#sk-container-id-2 div.sk-label:hover label.sk-toggleable__label {background-color: #d4ebff;}#sk-container-id-2 div.sk-serial::before {content: \"\";position: absolute;border-left: 1px solid gray;box-sizing: border-box;top: 0;bottom: 0;left: 50%;z-index: 0;}#sk-container-id-2 div.sk-serial {display: flex;flex-direction: column;align-items: center;background-color: white;padding-right: 0.2em;padding-left: 0.2em;position: relative;}#sk-container-id-2 div.sk-item {position: relative;z-index: 1;}#sk-container-id-2 div.sk-parallel {display: flex;align-items: stretch;justify-content: center;background-color: white;position: relative;}#sk-container-id-2 div.sk-item::before, #sk-container-id-2 div.sk-parallel-item::before {content: \"\";position: absolute;border-left: 1px solid gray;box-sizing: border-box;top: 0;bottom: 0;left: 50%;z-index: -1;}#sk-container-id-2 div.sk-parallel-item {display: flex;flex-direction: column;z-index: 1;position: relative;background-color: white;}#sk-container-id-2 div.sk-parallel-item:first-child::after {align-self: flex-end;width: 50%;}#sk-container-id-2 div.sk-parallel-item:last-child::after {align-self: flex-start;width: 50%;}#sk-container-id-2 div.sk-parallel-item:only-child::after {width: 0;}#sk-container-id-2 div.sk-dashed-wrapped {border: 1px dashed gray;margin: 0 0.4em 0.5em 0.4em;box-sizing: border-box;padding-bottom: 0.4em;background-color: white;}#sk-container-id-2 div.sk-label label {font-family: monospace;font-weight: bold;display: inline-block;line-height: 1.2em;}#sk-container-id-2 div.sk-label-container {text-align: center;}#sk-container-id-2 div.sk-container {/* jupyter's `normalize.less` sets `[hidden] { display: none; }` but bootstrap.min.css set `[hidden] { display: none !important; }` so we also need the `!important` here to be able to override the default hidden behavior on the sphinx rendered scikit-learn.org. See: https://github.com/scikit-learn/scikit-learn/issues/21755 */display: inline-block !important;position: relative;}#sk-container-id-2 div.sk-text-repr-fallback {display: none;}</style><div id=\"sk-container-id-2\" class=\"sk-top-container\"><div class=\"sk-text-repr-fallback\"><pre>RandomForestRegressor(random_state=42)</pre><b>In a Jupyter environment, please rerun this cell to show the HTML representation or trust the notebook. <br />On GitHub, the HTML representation is unable to render, please try loading this page with nbviewer.org.</b></div><div class=\"sk-container\" hidden><div class=\"sk-item\"><div class=\"sk-estimator sk-toggleable\"><input class=\"sk-toggleable__control sk-hidden--visually\" id=\"sk-estimator-id-2\" type=\"checkbox\" checked><label for=\"sk-estimator-id-2\" class=\"sk-toggleable__label sk-toggleable__label-arrow\">RandomForestRegressor</label><div class=\"sk-toggleable__content\"><pre>RandomForestRegressor(random_state=42)</pre></div></div></div></div></div>"
      ],
      "text/plain": [
       "RandomForestRegressor(random_state=42)"
      ]
     },
     "execution_count": 30,
     "metadata": {},
     "output_type": "execute_result"
    },
    {
     "data": {
      "text/plain": [
       "array([5.87, 5.05, 5.84, ..., 5.1 , 6.77, 6.23])"
      ]
     },
     "execution_count": 30,
     "metadata": {},
     "output_type": "execute_result"
    },
    {
     "data": {
      "text/plain": [
       "array([5.36, 5.16, 6.  , ..., 5.16, 6.88, 5.04])"
      ]
     },
     "execution_count": 30,
     "metadata": {},
     "output_type": "execute_result"
    }
   ],
   "source": [
    "wforest = RandomForestRegressor(n_estimators=100, random_state=42, max_depth=None)\n",
    "\n",
    "wforest.fit(X_train, y_train)\n",
    "\n",
    "wforest.predict(X_train)\n",
    "wforest.predict(X_test)"
   ]
  },
  {
   "cell_type": "code",
   "execution_count": 31,
   "id": "27f1767f",
   "metadata": {
    "scrolled": true
   },
   "outputs": [
    {
     "name": "stdout",
     "output_type": "stream",
     "text": [
      "Mean squared error for train set: 0.05\n",
      "Mean squared error for test set: 0.38\n",
      "Root Mean squared error for train set: 0.23\n",
      "Root Mean squared error for test set: 0.61\n",
      "Train set R^2: 0.932\n",
      "Test set R^2: 0.519\n"
     ]
    }
   ],
   "source": [
    "# MSE\n",
    "print(\"Mean squared error for train set: %.2f\" % mean_squared_error(y_train, wforest.predict(X_train)))\n",
    "print(\"Mean squared error for test set: %.2f\" % mean_squared_error(y_test, wforest.predict(X_test)))\n",
    "\n",
    "# RMSE\n",
    "print(\"Root Mean squared error for train set: %.2f\" % math.sqrt(mean_squared_error(y_train, wforest.predict(X_train))))\n",
    "print(\"Root Mean squared error for test set: %.2f\" % math.sqrt(mean_squared_error(y_test, wforest.predict(X_test))))\n",
    "\n",
    "# Coefficient of determination\n",
    "print('Train set R^2: {:.3f}'.format(wforest.score(X_train, y_train)))\n",
    "print('Test set R^2: {:.3f}'.format(wforest.score(X_test, y_test)))"
   ]
  },
  {
   "cell_type": "code",
   "execution_count": 32,
   "id": "6cd6289c",
   "metadata": {},
   "outputs": [
    {
     "name": "stdout",
     "output_type": "stream",
     "text": [
      "fixed acidity: 0.063\n",
      "volatile acidity: 0.125\n",
      "citric acid: 0.061\n",
      "residual sugar: 0.071\n",
      "chlorides: 0.062\n",
      "free sulfur dioxide: 0.115\n",
      "total sulfur dioxide: 0.069\n",
      "density: 0.059\n",
      "pH: 0.072\n",
      "sulphates: 0.058\n",
      "alcohol: 0.245\n"
     ]
    }
   ],
   "source": [
    "# print feature importance of white wine\n",
    "r=0\n",
    "for i in X:\n",
    "    print('{f}: {g:.3f}'.format(f=i, g=wforest.feature_importances_[r]))\n",
    "    r+=1"
   ]
  },
  {
   "cell_type": "code",
   "execution_count": 33,
   "id": "ccbceaff",
   "metadata": {},
   "outputs": [
    {
     "data": {
      "image/png": "[encoded data removed]",
      "text/plain": [
       "<Figure size 640x480 with 1 Axes>"
      ]
     },
     "metadata": {},
     "output_type": "display_data"
    }
   ],
   "source": [
    "plot_feature_importances(wforest)"
   ]
  },
  {
   "cell_type": "code",
   "execution_count": 34,
   "id": "c2b770ab",
   "metadata": {},
   "outputs": [
    {
     "name": "stderr",
     "output_type": "stream",
     "text": [
      "C:\\Users\\ninja\\AppData\\Local\\Temp\\ipykernel_34136\\4010462042.py:5: DataConversionWarning: A column-vector y was passed when a 1d array was expected. Please change the shape of y to (n_samples,), for example using ravel().\n",
      "  z = RandomForestRegressor(n_estimators=100, random_state=42, max_depth=None, max_features=i).fit(X_train, y_train)\n",
      "C:\\Users\\ninja\\AppData\\Local\\Temp\\ipykernel_34136\\4010462042.py:5: DataConversionWarning: A column-vector y was passed when a 1d array was expected. Please change the shape of y to (n_samples,), for example using ravel().\n",
      "  z = RandomForestRegressor(n_estimators=100, random_state=42, max_depth=None, max_features=i).fit(X_train, y_train)\n",
      "C:\\Users\\ninja\\AppData\\Local\\Temp\\ipykernel_34136\\4010462042.py:5: DataConversionWarning: A column-vector y was passed when a 1d array was expected. Please change the shape of y to (n_samples,), for example using ravel().\n",
      "  z = RandomForestRegressor(n_estimators=100, random_state=42, max_depth=None, max_features=i).fit(X_train, y_train)\n",
      "C:\\Users\\ninja\\AppData\\Local\\Temp\\ipykernel_34136\\4010462042.py:5: DataConversionWarning: A column-vector y was passed when a 1d array was expected. Please change the shape of y to (n_samples,), for example using ravel().\n",
      "  z = RandomForestRegressor(n_estimators=100, random_state=42, max_depth=None, max_features=i).fit(X_train, y_train)\n",
      "C:\\Users\\ninja\\AppData\\Local\\Temp\\ipykernel_34136\\4010462042.py:5: DataConversionWarning: A column-vector y was passed when a 1d array was expected. Please change the shape of y to (n_samples,), for example using ravel().\n",
      "  z = RandomForestRegressor(n_estimators=100, random_state=42, max_depth=None, max_features=i).fit(X_train, y_train)\n",
      "C:\\Users\\ninja\\AppData\\Local\\Temp\\ipykernel_34136\\4010462042.py:5: DataConversionWarning: A column-vector y was passed when a 1d array was expected. Please change the shape of y to (n_samples,), for example using ravel().\n",
      "  z = RandomForestRegressor(n_estimators=100, random_state=42, max_depth=None, max_features=i).fit(X_train, y_train)\n",
      "C:\\Users\\ninja\\AppData\\Local\\Temp\\ipykernel_34136\\4010462042.py:5: DataConversionWarning: A column-vector y was passed when a 1d array was expected. Please change the shape of y to (n_samples,), for example using ravel().\n",
      "  z = RandomForestRegressor(n_estimators=100, random_state=42, max_depth=None, max_features=i).fit(X_train, y_train)\n",
      "C:\\Users\\ninja\\AppData\\Local\\Temp\\ipykernel_34136\\4010462042.py:5: DataConversionWarning: A column-vector y was passed when a 1d array was expected. Please change the shape of y to (n_samples,), for example using ravel().\n",
      "  z = RandomForestRegressor(n_estimators=100, random_state=42, max_depth=None, max_features=i).fit(X_train, y_train)\n",
      "C:\\Users\\ninja\\AppData\\Local\\Temp\\ipykernel_34136\\4010462042.py:5: DataConversionWarning: A column-vector y was passed when a 1d array was expected. Please change the shape of y to (n_samples,), for example using ravel().\n",
      "  z = RandomForestRegressor(n_estimators=100, random_state=42, max_depth=None, max_features=i).fit(X_train, y_train)\n",
      "C:\\Users\\ninja\\AppData\\Local\\Temp\\ipykernel_34136\\4010462042.py:5: DataConversionWarning: A column-vector y was passed when a 1d array was expected. Please change the shape of y to (n_samples,), for example using ravel().\n",
      "  z = RandomForestRegressor(n_estimators=100, random_state=42, max_depth=None, max_features=i).fit(X_train, y_train)\n",
      "C:\\Users\\ninja\\AppData\\Local\\Temp\\ipykernel_34136\\4010462042.py:5: DataConversionWarning: A column-vector y was passed when a 1d array was expected. Please change the shape of y to (n_samples,), for example using ravel().\n",
      "  z = RandomForestRegressor(n_estimators=100, random_state=42, max_depth=None, max_features=i).fit(X_train, y_train)\n",
      "C:\\Users\\ninja\\AppData\\Local\\Temp\\ipykernel_34136\\4010462042.py:5: DataConversionWarning: A column-vector y was passed when a 1d array was expected. Please change the shape of y to (n_samples,), for example using ravel().\n",
      "  z = RandomForestRegressor(n_estimators=100, random_state=42, max_depth=None, max_features=i).fit(X_train, y_train)\n",
      "C:\\Users\\ninja\\AppData\\Local\\Temp\\ipykernel_34136\\4010462042.py:5: DataConversionWarning: A column-vector y was passed when a 1d array was expected. Please change the shape of y to (n_samples,), for example using ravel().\n",
      "  z = RandomForestRegressor(n_estimators=100, random_state=42, max_depth=None, max_features=i).fit(X_train, y_train)\n",
      "C:\\Users\\ninja\\AppData\\Local\\Temp\\ipykernel_34136\\4010462042.py:5: DataConversionWarning: A column-vector y was passed when a 1d array was expected. Please change the shape of y to (n_samples,), for example using ravel().\n",
      "  z = RandomForestRegressor(n_estimators=100, random_state=42, max_depth=None, max_features=i).fit(X_train, y_train)\n"
     ]
    },
    {
     "data": {
      "text/plain": [
       "[<matplotlib.lines.Line2D at 0x1a8eb179070>]"
      ]
     },
     "execution_count": 34,
     "metadata": {},
     "output_type": "execute_result"
    },
    {
     "data": {
      "text/plain": [
       "[<matplotlib.lines.Line2D at 0x1a8eb179400>]"
      ]
     },
     "execution_count": 34,
     "metadata": {},
     "output_type": "execute_result"
    },
    {
     "data": {
      "text/plain": [
       "Text(0.5, 0, 'Depth')"
      ]
     },
     "execution_count": 34,
     "metadata": {},
     "output_type": "execute_result"
    },
    {
     "data": {
      "text/plain": [
       "Text(0, 0.5, 'R^2')"
      ]
     },
     "execution_count": 34,
     "metadata": {},
     "output_type": "execute_result"
    },
    {
     "data": {
      "text/plain": [
       "Text(0.5, 1.0, 'White Wine Accuracy Chart')"
      ]
     },
     "execution_count": 34,
     "metadata": {},
     "output_type": "execute_result"
    },
    {
     "name": "stdout",
     "output_type": "stream",
     "text": [
      "3\n"
     ]
    },
    {
     "data": {
      "image/png": "[encoded data removed]",
      "text/plain": [
       "<Figure size 640x480 with 1 Axes>"
      ]
     },
     "metadata": {},
     "output_type": "display_data"
    }
   ],
   "source": [
    "# create a chart to see what number of Max Features provides the highest R^2 value\n",
    "wftrain = []\n",
    "wftest = []\n",
    "for i in range(1,15):\n",
    "    z = RandomForestRegressor(n_estimators=100, random_state=42, max_depth=None, max_features=i).fit(X_train, y_train)\n",
    "    wftrain.append(z.score(X_train, y_train))\n",
    "    wftest.append(z.score(X_test, y_test))\n",
    "\n",
    "# plot the graph to see best max depth\n",
    "plt.plot(rftrain)\n",
    "plt.plot(rftest)\n",
    "plt.xlabel('Depth')\n",
    "plt.ylabel('R^2')\n",
    "plt.title('White Wine Accuracy Chart')\n",
    "\n",
    "# find the best depth based on highest test accuracy\n",
    "wfmaxd = wftest.index(max(wftest))\n",
    "print(wfmaxd)"
   ]
  },
  {
   "cell_type": "code",
   "execution_count": 35,
   "id": "08c0a448",
   "metadata": {},
   "outputs": [
    {
     "name": "stderr",
     "output_type": "stream",
     "text": [
      "C:\\Users\\ninja\\AppData\\Local\\Temp\\ipykernel_34136\\551567666.py:2: DataConversionWarning: A column-vector y was passed when a 1d array was expected. Please change the shape of y to (n_samples,), for example using ravel().\n",
      "  wmforest = RandomForestRegressor(n_estimators=100, random_state=42, max_depth=None, max_features=wfmaxd).fit(X_train, y_train)\n"
     ]
    },
    {
     "name": "stdout",
     "output_type": "stream",
     "text": [
      "Train set R^2: 0.933\n",
      "Test set R^2: 0.524\n"
     ]
    }
   ],
   "source": [
    "# Display the test results of the forest with the best R^2\n",
    "wmforest = RandomForestRegressor(n_estimators=100, random_state=42, max_depth=None, max_features=wfmaxd).fit(X_train, y_train)\n",
    "\n",
    "print('Train set R^2: {:.3f}'.format(wmforest.score(X_train, y_train)))\n",
    "print('Test set R^2: {:.3f}'.format(wmforest.score(X_test, y_test)))"
   ]
  },
  {
   "cell_type": "code",
   "execution_count": null,
   "id": "8eab3069",
   "metadata": {},
   "outputs": [],
   "source": []
  }
 ],
 "metadata": {
  "kernelspec": {
   "display_name": "Python 3 (ipykernel)",
   "language": "python",
   "name": "python3"
  },
  "language_info": {
   "codemirror_mode": {
    "name": "ipython",
    "version": 3
   },
   "file_extension": ".py",
   "mimetype": "text/x-python",
   "name": "python",
   "nbconvert_exporter": "python",
   "pygments_lexer": "ipython3",
   "version": "3.8.16"
  }
 },
 "nbformat": 4,
 "nbformat_minor": 5
}
